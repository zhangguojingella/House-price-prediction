{
 "cells": [
  {
   "cell_type": "code",
   "execution_count": 1,
   "metadata": {},
   "outputs": [
    {
     "name": "stderr",
     "output_type": "stream",
     "text": [
      "C:\\Users\\lionp\\Anaconda3\\lib\\site-packages\\sklearn\\cross_validation.py:41: DeprecationWarning: This module was deprecated in version 0.18 in favor of the model_selection module into which all the refactored classes and functions are moved. Also note that the interface of the new CV iterators are different from that of this module. This module will be removed in 0.20.\n",
      "  \"This module will be removed in 0.20.\", DeprecationWarning)\n"
     ]
    }
   ],
   "source": [
    "import pandas as pd\n",
    "from sklearn.decomposition import PCA\n",
    "from sklearn.model_selection import train_test_split\n",
    "import xgboost as xgb\n",
    "from sklearn.model_selection import cross_val_score\n",
    "import numpy as np\n",
    "import seaborn as sns\n",
    "from scipy.stats import norm, skew\n",
    "% matplotlib inline\n",
    "from sklearn.ensemble import AdaBoostRegressor\n",
    "from sklearn.ensemble import RandomForestRegressor\n",
    "from sklearn.neural_network import MLPRegressor\n",
    "from sklearn.neighbors import KNeighborsRegressor\n",
    "import math\n",
    "from sklearn.linear_model import ElasticNet, Lasso,  BayesianRidge, LassoLarsIC\n",
    "from sklearn.preprocessing import MinMaxScaler\n",
    "from sklearn.cross_validation import KFold\n",
    "seed = 0"
   ]
  },
  {
   "cell_type": "code",
   "execution_count": 2,
   "metadata": {
    "collapsed": true
   },
   "outputs": [],
   "source": [
    "import warnings\n",
    "warnings.filterwarnings(\"ignore\")"
   ]
  },
  {
   "cell_type": "markdown",
   "metadata": {},
   "source": [
    "# Overall description"
   ]
  },
  {
   "cell_type": "code",
   "execution_count": 27,
   "metadata": {},
   "outputs": [
    {
     "data": {
      "text/html": [
       "<div>\n",
       "<style>\n",
       "    .dataframe thead tr:only-child th {\n",
       "        text-align: right;\n",
       "    }\n",
       "\n",
       "    .dataframe thead th {\n",
       "        text-align: left;\n",
       "    }\n",
       "\n",
       "    .dataframe tbody tr th {\n",
       "        vertical-align: top;\n",
       "    }\n",
       "</style>\n",
       "<table border=\"1\" class=\"dataframe\">\n",
       "  <thead>\n",
       "    <tr style=\"text-align: right;\">\n",
       "      <th></th>\n",
       "      <th>Id</th>\n",
       "      <th>MSSubClass</th>\n",
       "      <th>MSZoning</th>\n",
       "      <th>LotFrontage</th>\n",
       "      <th>LotArea</th>\n",
       "      <th>Street</th>\n",
       "      <th>Alley</th>\n",
       "      <th>LotShape</th>\n",
       "      <th>LandContour</th>\n",
       "      <th>Utilities</th>\n",
       "      <th>...</th>\n",
       "      <th>PoolArea</th>\n",
       "      <th>PoolQC</th>\n",
       "      <th>Fence</th>\n",
       "      <th>MiscFeature</th>\n",
       "      <th>MiscVal</th>\n",
       "      <th>MoSold</th>\n",
       "      <th>YrSold</th>\n",
       "      <th>SaleType</th>\n",
       "      <th>SaleCondition</th>\n",
       "      <th>SalePrice</th>\n",
       "    </tr>\n",
       "  </thead>\n",
       "  <tbody>\n",
       "    <tr>\n",
       "      <th>0</th>\n",
       "      <td>1</td>\n",
       "      <td>60</td>\n",
       "      <td>RL</td>\n",
       "      <td>65.0</td>\n",
       "      <td>8450</td>\n",
       "      <td>Pave</td>\n",
       "      <td>NaN</td>\n",
       "      <td>Reg</td>\n",
       "      <td>Lvl</td>\n",
       "      <td>AllPub</td>\n",
       "      <td>...</td>\n",
       "      <td>0</td>\n",
       "      <td>NaN</td>\n",
       "      <td>NaN</td>\n",
       "      <td>NaN</td>\n",
       "      <td>0</td>\n",
       "      <td>2</td>\n",
       "      <td>2008</td>\n",
       "      <td>WD</td>\n",
       "      <td>Normal</td>\n",
       "      <td>208500</td>\n",
       "    </tr>\n",
       "    <tr>\n",
       "      <th>1</th>\n",
       "      <td>2</td>\n",
       "      <td>20</td>\n",
       "      <td>RL</td>\n",
       "      <td>80.0</td>\n",
       "      <td>9600</td>\n",
       "      <td>Pave</td>\n",
       "      <td>NaN</td>\n",
       "      <td>Reg</td>\n",
       "      <td>Lvl</td>\n",
       "      <td>AllPub</td>\n",
       "      <td>...</td>\n",
       "      <td>0</td>\n",
       "      <td>NaN</td>\n",
       "      <td>NaN</td>\n",
       "      <td>NaN</td>\n",
       "      <td>0</td>\n",
       "      <td>5</td>\n",
       "      <td>2007</td>\n",
       "      <td>WD</td>\n",
       "      <td>Normal</td>\n",
       "      <td>181500</td>\n",
       "    </tr>\n",
       "    <tr>\n",
       "      <th>2</th>\n",
       "      <td>3</td>\n",
       "      <td>60</td>\n",
       "      <td>RL</td>\n",
       "      <td>68.0</td>\n",
       "      <td>11250</td>\n",
       "      <td>Pave</td>\n",
       "      <td>NaN</td>\n",
       "      <td>IR1</td>\n",
       "      <td>Lvl</td>\n",
       "      <td>AllPub</td>\n",
       "      <td>...</td>\n",
       "      <td>0</td>\n",
       "      <td>NaN</td>\n",
       "      <td>NaN</td>\n",
       "      <td>NaN</td>\n",
       "      <td>0</td>\n",
       "      <td>9</td>\n",
       "      <td>2008</td>\n",
       "      <td>WD</td>\n",
       "      <td>Normal</td>\n",
       "      <td>223500</td>\n",
       "    </tr>\n",
       "    <tr>\n",
       "      <th>3</th>\n",
       "      <td>4</td>\n",
       "      <td>70</td>\n",
       "      <td>RL</td>\n",
       "      <td>60.0</td>\n",
       "      <td>9550</td>\n",
       "      <td>Pave</td>\n",
       "      <td>NaN</td>\n",
       "      <td>IR1</td>\n",
       "      <td>Lvl</td>\n",
       "      <td>AllPub</td>\n",
       "      <td>...</td>\n",
       "      <td>0</td>\n",
       "      <td>NaN</td>\n",
       "      <td>NaN</td>\n",
       "      <td>NaN</td>\n",
       "      <td>0</td>\n",
       "      <td>2</td>\n",
       "      <td>2006</td>\n",
       "      <td>WD</td>\n",
       "      <td>Abnorml</td>\n",
       "      <td>140000</td>\n",
       "    </tr>\n",
       "    <tr>\n",
       "      <th>4</th>\n",
       "      <td>5</td>\n",
       "      <td>60</td>\n",
       "      <td>RL</td>\n",
       "      <td>84.0</td>\n",
       "      <td>14260</td>\n",
       "      <td>Pave</td>\n",
       "      <td>NaN</td>\n",
       "      <td>IR1</td>\n",
       "      <td>Lvl</td>\n",
       "      <td>AllPub</td>\n",
       "      <td>...</td>\n",
       "      <td>0</td>\n",
       "      <td>NaN</td>\n",
       "      <td>NaN</td>\n",
       "      <td>NaN</td>\n",
       "      <td>0</td>\n",
       "      <td>12</td>\n",
       "      <td>2008</td>\n",
       "      <td>WD</td>\n",
       "      <td>Normal</td>\n",
       "      <td>250000</td>\n",
       "    </tr>\n",
       "  </tbody>\n",
       "</table>\n",
       "<p>5 rows × 81 columns</p>\n",
       "</div>"
      ],
      "text/plain": [
       "   Id  MSSubClass MSZoning  LotFrontage  LotArea Street Alley LotShape  \\\n",
       "0   1          60       RL         65.0     8450   Pave   NaN      Reg   \n",
       "1   2          20       RL         80.0     9600   Pave   NaN      Reg   \n",
       "2   3          60       RL         68.0    11250   Pave   NaN      IR1   \n",
       "3   4          70       RL         60.0     9550   Pave   NaN      IR1   \n",
       "4   5          60       RL         84.0    14260   Pave   NaN      IR1   \n",
       "\n",
       "  LandContour Utilities    ...     PoolArea PoolQC Fence MiscFeature MiscVal  \\\n",
       "0         Lvl    AllPub    ...            0    NaN   NaN         NaN       0   \n",
       "1         Lvl    AllPub    ...            0    NaN   NaN         NaN       0   \n",
       "2         Lvl    AllPub    ...            0    NaN   NaN         NaN       0   \n",
       "3         Lvl    AllPub    ...            0    NaN   NaN         NaN       0   \n",
       "4         Lvl    AllPub    ...            0    NaN   NaN         NaN       0   \n",
       "\n",
       "  MoSold YrSold  SaleType  SaleCondition  SalePrice  \n",
       "0      2   2008        WD         Normal     208500  \n",
       "1      5   2007        WD         Normal     181500  \n",
       "2      9   2008        WD         Normal     223500  \n",
       "3      2   2006        WD        Abnorml     140000  \n",
       "4     12   2008        WD         Normal     250000  \n",
       "\n",
       "[5 rows x 81 columns]"
      ]
     },
     "execution_count": 27,
     "metadata": {},
     "output_type": "execute_result"
    }
   ],
   "source": [
    "# raw = pd.read_csv('all_train_to_kewei.csv')\n",
    "raw = pd.read_csv('train.csv')\n",
    "test_data = pd.read_csv('test.csv')\n",
    "raw.head()"
   ]
  },
  {
   "cell_type": "code",
   "execution_count": 4,
   "metadata": {},
   "outputs": [
    {
     "data": {
      "text/html": [
       "<div>\n",
       "<style>\n",
       "    .dataframe thead tr:only-child th {\n",
       "        text-align: right;\n",
       "    }\n",
       "\n",
       "    .dataframe thead th {\n",
       "        text-align: left;\n",
       "    }\n",
       "\n",
       "    .dataframe tbody tr th {\n",
       "        vertical-align: top;\n",
       "    }\n",
       "</style>\n",
       "<table border=\"1\" class=\"dataframe\">\n",
       "  <thead>\n",
       "    <tr style=\"text-align: right;\">\n",
       "      <th></th>\n",
       "      <th>Id</th>\n",
       "      <th>MSSubClass</th>\n",
       "      <th>LotFrontage</th>\n",
       "      <th>LotArea</th>\n",
       "      <th>OverallQual</th>\n",
       "      <th>OverallCond</th>\n",
       "      <th>YearBuilt</th>\n",
       "      <th>YearRemodAdd</th>\n",
       "      <th>MasVnrArea</th>\n",
       "      <th>BsmtFinSF1</th>\n",
       "      <th>...</th>\n",
       "      <th>WoodDeckSF</th>\n",
       "      <th>OpenPorchSF</th>\n",
       "      <th>EnclosedPorch</th>\n",
       "      <th>3SsnPorch</th>\n",
       "      <th>ScreenPorch</th>\n",
       "      <th>PoolArea</th>\n",
       "      <th>MiscVal</th>\n",
       "      <th>MoSold</th>\n",
       "      <th>YrSold</th>\n",
       "      <th>SalePrice</th>\n",
       "    </tr>\n",
       "  </thead>\n",
       "  <tbody>\n",
       "    <tr>\n",
       "      <th>count</th>\n",
       "      <td>1460.000000</td>\n",
       "      <td>1460.000000</td>\n",
       "      <td>1201.000000</td>\n",
       "      <td>1460.000000</td>\n",
       "      <td>1460.000000</td>\n",
       "      <td>1460.000000</td>\n",
       "      <td>1460.000000</td>\n",
       "      <td>1460.000000</td>\n",
       "      <td>1452.000000</td>\n",
       "      <td>1460.000000</td>\n",
       "      <td>...</td>\n",
       "      <td>1460.000000</td>\n",
       "      <td>1460.000000</td>\n",
       "      <td>1460.000000</td>\n",
       "      <td>1460.000000</td>\n",
       "      <td>1460.000000</td>\n",
       "      <td>1460.000000</td>\n",
       "      <td>1460.000000</td>\n",
       "      <td>1460.000000</td>\n",
       "      <td>1460.000000</td>\n",
       "      <td>1460.000000</td>\n",
       "    </tr>\n",
       "    <tr>\n",
       "      <th>mean</th>\n",
       "      <td>730.500000</td>\n",
       "      <td>56.897260</td>\n",
       "      <td>70.049958</td>\n",
       "      <td>10516.828082</td>\n",
       "      <td>6.099315</td>\n",
       "      <td>5.575342</td>\n",
       "      <td>1971.267808</td>\n",
       "      <td>1984.865753</td>\n",
       "      <td>103.685262</td>\n",
       "      <td>443.639726</td>\n",
       "      <td>...</td>\n",
       "      <td>94.244521</td>\n",
       "      <td>46.660274</td>\n",
       "      <td>21.954110</td>\n",
       "      <td>3.409589</td>\n",
       "      <td>15.060959</td>\n",
       "      <td>2.758904</td>\n",
       "      <td>43.489041</td>\n",
       "      <td>6.321918</td>\n",
       "      <td>2007.815753</td>\n",
       "      <td>180921.195890</td>\n",
       "    </tr>\n",
       "    <tr>\n",
       "      <th>std</th>\n",
       "      <td>421.610009</td>\n",
       "      <td>42.300571</td>\n",
       "      <td>24.284752</td>\n",
       "      <td>9981.264932</td>\n",
       "      <td>1.382997</td>\n",
       "      <td>1.112799</td>\n",
       "      <td>30.202904</td>\n",
       "      <td>20.645407</td>\n",
       "      <td>181.066207</td>\n",
       "      <td>456.098091</td>\n",
       "      <td>...</td>\n",
       "      <td>125.338794</td>\n",
       "      <td>66.256028</td>\n",
       "      <td>61.119149</td>\n",
       "      <td>29.317331</td>\n",
       "      <td>55.757415</td>\n",
       "      <td>40.177307</td>\n",
       "      <td>496.123024</td>\n",
       "      <td>2.703626</td>\n",
       "      <td>1.328095</td>\n",
       "      <td>79442.502883</td>\n",
       "    </tr>\n",
       "    <tr>\n",
       "      <th>min</th>\n",
       "      <td>1.000000</td>\n",
       "      <td>20.000000</td>\n",
       "      <td>21.000000</td>\n",
       "      <td>1300.000000</td>\n",
       "      <td>1.000000</td>\n",
       "      <td>1.000000</td>\n",
       "      <td>1872.000000</td>\n",
       "      <td>1950.000000</td>\n",
       "      <td>0.000000</td>\n",
       "      <td>0.000000</td>\n",
       "      <td>...</td>\n",
       "      <td>0.000000</td>\n",
       "      <td>0.000000</td>\n",
       "      <td>0.000000</td>\n",
       "      <td>0.000000</td>\n",
       "      <td>0.000000</td>\n",
       "      <td>0.000000</td>\n",
       "      <td>0.000000</td>\n",
       "      <td>1.000000</td>\n",
       "      <td>2006.000000</td>\n",
       "      <td>34900.000000</td>\n",
       "    </tr>\n",
       "    <tr>\n",
       "      <th>25%</th>\n",
       "      <td>365.750000</td>\n",
       "      <td>20.000000</td>\n",
       "      <td>59.000000</td>\n",
       "      <td>7553.500000</td>\n",
       "      <td>5.000000</td>\n",
       "      <td>5.000000</td>\n",
       "      <td>1954.000000</td>\n",
       "      <td>1967.000000</td>\n",
       "      <td>0.000000</td>\n",
       "      <td>0.000000</td>\n",
       "      <td>...</td>\n",
       "      <td>0.000000</td>\n",
       "      <td>0.000000</td>\n",
       "      <td>0.000000</td>\n",
       "      <td>0.000000</td>\n",
       "      <td>0.000000</td>\n",
       "      <td>0.000000</td>\n",
       "      <td>0.000000</td>\n",
       "      <td>5.000000</td>\n",
       "      <td>2007.000000</td>\n",
       "      <td>129975.000000</td>\n",
       "    </tr>\n",
       "    <tr>\n",
       "      <th>50%</th>\n",
       "      <td>730.500000</td>\n",
       "      <td>50.000000</td>\n",
       "      <td>69.000000</td>\n",
       "      <td>9478.500000</td>\n",
       "      <td>6.000000</td>\n",
       "      <td>5.000000</td>\n",
       "      <td>1973.000000</td>\n",
       "      <td>1994.000000</td>\n",
       "      <td>0.000000</td>\n",
       "      <td>383.500000</td>\n",
       "      <td>...</td>\n",
       "      <td>0.000000</td>\n",
       "      <td>25.000000</td>\n",
       "      <td>0.000000</td>\n",
       "      <td>0.000000</td>\n",
       "      <td>0.000000</td>\n",
       "      <td>0.000000</td>\n",
       "      <td>0.000000</td>\n",
       "      <td>6.000000</td>\n",
       "      <td>2008.000000</td>\n",
       "      <td>163000.000000</td>\n",
       "    </tr>\n",
       "    <tr>\n",
       "      <th>75%</th>\n",
       "      <td>1095.250000</td>\n",
       "      <td>70.000000</td>\n",
       "      <td>80.000000</td>\n",
       "      <td>11601.500000</td>\n",
       "      <td>7.000000</td>\n",
       "      <td>6.000000</td>\n",
       "      <td>2000.000000</td>\n",
       "      <td>2004.000000</td>\n",
       "      <td>166.000000</td>\n",
       "      <td>712.250000</td>\n",
       "      <td>...</td>\n",
       "      <td>168.000000</td>\n",
       "      <td>68.000000</td>\n",
       "      <td>0.000000</td>\n",
       "      <td>0.000000</td>\n",
       "      <td>0.000000</td>\n",
       "      <td>0.000000</td>\n",
       "      <td>0.000000</td>\n",
       "      <td>8.000000</td>\n",
       "      <td>2009.000000</td>\n",
       "      <td>214000.000000</td>\n",
       "    </tr>\n",
       "    <tr>\n",
       "      <th>max</th>\n",
       "      <td>1460.000000</td>\n",
       "      <td>190.000000</td>\n",
       "      <td>313.000000</td>\n",
       "      <td>215245.000000</td>\n",
       "      <td>10.000000</td>\n",
       "      <td>9.000000</td>\n",
       "      <td>2010.000000</td>\n",
       "      <td>2010.000000</td>\n",
       "      <td>1600.000000</td>\n",
       "      <td>5644.000000</td>\n",
       "      <td>...</td>\n",
       "      <td>857.000000</td>\n",
       "      <td>547.000000</td>\n",
       "      <td>552.000000</td>\n",
       "      <td>508.000000</td>\n",
       "      <td>480.000000</td>\n",
       "      <td>738.000000</td>\n",
       "      <td>15500.000000</td>\n",
       "      <td>12.000000</td>\n",
       "      <td>2010.000000</td>\n",
       "      <td>755000.000000</td>\n",
       "    </tr>\n",
       "  </tbody>\n",
       "</table>\n",
       "<p>8 rows × 38 columns</p>\n",
       "</div>"
      ],
      "text/plain": [
       "                Id   MSSubClass  LotFrontage        LotArea  OverallQual  \\\n",
       "count  1460.000000  1460.000000  1201.000000    1460.000000  1460.000000   \n",
       "mean    730.500000    56.897260    70.049958   10516.828082     6.099315   \n",
       "std     421.610009    42.300571    24.284752    9981.264932     1.382997   \n",
       "min       1.000000    20.000000    21.000000    1300.000000     1.000000   \n",
       "25%     365.750000    20.000000    59.000000    7553.500000     5.000000   \n",
       "50%     730.500000    50.000000    69.000000    9478.500000     6.000000   \n",
       "75%    1095.250000    70.000000    80.000000   11601.500000     7.000000   \n",
       "max    1460.000000   190.000000   313.000000  215245.000000    10.000000   \n",
       "\n",
       "       OverallCond    YearBuilt  YearRemodAdd   MasVnrArea   BsmtFinSF1  \\\n",
       "count  1460.000000  1460.000000   1460.000000  1452.000000  1460.000000   \n",
       "mean      5.575342  1971.267808   1984.865753   103.685262   443.639726   \n",
       "std       1.112799    30.202904     20.645407   181.066207   456.098091   \n",
       "min       1.000000  1872.000000   1950.000000     0.000000     0.000000   \n",
       "25%       5.000000  1954.000000   1967.000000     0.000000     0.000000   \n",
       "50%       5.000000  1973.000000   1994.000000     0.000000   383.500000   \n",
       "75%       6.000000  2000.000000   2004.000000   166.000000   712.250000   \n",
       "max       9.000000  2010.000000   2010.000000  1600.000000  5644.000000   \n",
       "\n",
       "           ...         WoodDeckSF  OpenPorchSF  EnclosedPorch    3SsnPorch  \\\n",
       "count      ...        1460.000000  1460.000000    1460.000000  1460.000000   \n",
       "mean       ...          94.244521    46.660274      21.954110     3.409589   \n",
       "std        ...         125.338794    66.256028      61.119149    29.317331   \n",
       "min        ...           0.000000     0.000000       0.000000     0.000000   \n",
       "25%        ...           0.000000     0.000000       0.000000     0.000000   \n",
       "50%        ...           0.000000    25.000000       0.000000     0.000000   \n",
       "75%        ...         168.000000    68.000000       0.000000     0.000000   \n",
       "max        ...         857.000000   547.000000     552.000000   508.000000   \n",
       "\n",
       "       ScreenPorch     PoolArea       MiscVal       MoSold       YrSold  \\\n",
       "count  1460.000000  1460.000000   1460.000000  1460.000000  1460.000000   \n",
       "mean     15.060959     2.758904     43.489041     6.321918  2007.815753   \n",
       "std      55.757415    40.177307    496.123024     2.703626     1.328095   \n",
       "min       0.000000     0.000000      0.000000     1.000000  2006.000000   \n",
       "25%       0.000000     0.000000      0.000000     5.000000  2007.000000   \n",
       "50%       0.000000     0.000000      0.000000     6.000000  2008.000000   \n",
       "75%       0.000000     0.000000      0.000000     8.000000  2009.000000   \n",
       "max     480.000000   738.000000  15500.000000    12.000000  2010.000000   \n",
       "\n",
       "           SalePrice  \n",
       "count    1460.000000  \n",
       "mean   180921.195890  \n",
       "std     79442.502883  \n",
       "min     34900.000000  \n",
       "25%    129975.000000  \n",
       "50%    163000.000000  \n",
       "75%    214000.000000  \n",
       "max    755000.000000  \n",
       "\n",
       "[8 rows x 38 columns]"
      ]
     },
     "execution_count": 4,
     "metadata": {},
     "output_type": "execute_result"
    }
   ],
   "source": [
    "raw.describe()"
   ]
  },
  {
   "cell_type": "code",
   "execution_count": 5,
   "metadata": {},
   "outputs": [
    {
     "data": {
      "text/html": [
       "<div>\n",
       "<style>\n",
       "    .dataframe thead tr:only-child th {\n",
       "        text-align: right;\n",
       "    }\n",
       "\n",
       "    .dataframe thead th {\n",
       "        text-align: left;\n",
       "    }\n",
       "\n",
       "    .dataframe tbody tr th {\n",
       "        vertical-align: top;\n",
       "    }\n",
       "</style>\n",
       "<table border=\"1\" class=\"dataframe\">\n",
       "  <thead>\n",
       "    <tr style=\"text-align: right;\">\n",
       "      <th></th>\n",
       "      <th>Id</th>\n",
       "      <th>MSSubClass</th>\n",
       "      <th>MSZoning</th>\n",
       "      <th>LotFrontage</th>\n",
       "      <th>LotArea</th>\n",
       "      <th>Street</th>\n",
       "      <th>Alley</th>\n",
       "      <th>LotShape</th>\n",
       "      <th>LandContour</th>\n",
       "      <th>Utilities</th>\n",
       "      <th>...</th>\n",
       "      <th>PoolArea</th>\n",
       "      <th>PoolQC</th>\n",
       "      <th>Fence</th>\n",
       "      <th>MiscFeature</th>\n",
       "      <th>MiscVal</th>\n",
       "      <th>MoSold</th>\n",
       "      <th>YrSold</th>\n",
       "      <th>SaleType</th>\n",
       "      <th>SaleCondition</th>\n",
       "      <th>SalePrice</th>\n",
       "    </tr>\n",
       "  </thead>\n",
       "  <tbody>\n",
       "    <tr>\n",
       "      <th>0</th>\n",
       "      <td>1</td>\n",
       "      <td>60</td>\n",
       "      <td>RL</td>\n",
       "      <td>65.0</td>\n",
       "      <td>8450</td>\n",
       "      <td>Pave</td>\n",
       "      <td>NaN</td>\n",
       "      <td>Reg</td>\n",
       "      <td>Lvl</td>\n",
       "      <td>AllPub</td>\n",
       "      <td>...</td>\n",
       "      <td>0</td>\n",
       "      <td>NaN</td>\n",
       "      <td>NaN</td>\n",
       "      <td>NaN</td>\n",
       "      <td>0</td>\n",
       "      <td>2</td>\n",
       "      <td>2008</td>\n",
       "      <td>WD</td>\n",
       "      <td>Normal</td>\n",
       "      <td>208500.0</td>\n",
       "    </tr>\n",
       "    <tr>\n",
       "      <th>1</th>\n",
       "      <td>2</td>\n",
       "      <td>20</td>\n",
       "      <td>RL</td>\n",
       "      <td>80.0</td>\n",
       "      <td>9600</td>\n",
       "      <td>Pave</td>\n",
       "      <td>NaN</td>\n",
       "      <td>Reg</td>\n",
       "      <td>Lvl</td>\n",
       "      <td>AllPub</td>\n",
       "      <td>...</td>\n",
       "      <td>0</td>\n",
       "      <td>NaN</td>\n",
       "      <td>NaN</td>\n",
       "      <td>NaN</td>\n",
       "      <td>0</td>\n",
       "      <td>5</td>\n",
       "      <td>2007</td>\n",
       "      <td>WD</td>\n",
       "      <td>Normal</td>\n",
       "      <td>181500.0</td>\n",
       "    </tr>\n",
       "    <tr>\n",
       "      <th>2</th>\n",
       "      <td>3</td>\n",
       "      <td>60</td>\n",
       "      <td>RL</td>\n",
       "      <td>68.0</td>\n",
       "      <td>11250</td>\n",
       "      <td>Pave</td>\n",
       "      <td>NaN</td>\n",
       "      <td>IR1</td>\n",
       "      <td>Lvl</td>\n",
       "      <td>AllPub</td>\n",
       "      <td>...</td>\n",
       "      <td>0</td>\n",
       "      <td>NaN</td>\n",
       "      <td>NaN</td>\n",
       "      <td>NaN</td>\n",
       "      <td>0</td>\n",
       "      <td>9</td>\n",
       "      <td>2008</td>\n",
       "      <td>WD</td>\n",
       "      <td>Normal</td>\n",
       "      <td>223500.0</td>\n",
       "    </tr>\n",
       "    <tr>\n",
       "      <th>3</th>\n",
       "      <td>4</td>\n",
       "      <td>70</td>\n",
       "      <td>RL</td>\n",
       "      <td>60.0</td>\n",
       "      <td>9550</td>\n",
       "      <td>Pave</td>\n",
       "      <td>NaN</td>\n",
       "      <td>IR1</td>\n",
       "      <td>Lvl</td>\n",
       "      <td>AllPub</td>\n",
       "      <td>...</td>\n",
       "      <td>0</td>\n",
       "      <td>NaN</td>\n",
       "      <td>NaN</td>\n",
       "      <td>NaN</td>\n",
       "      <td>0</td>\n",
       "      <td>2</td>\n",
       "      <td>2006</td>\n",
       "      <td>WD</td>\n",
       "      <td>Abnorml</td>\n",
       "      <td>140000.0</td>\n",
       "    </tr>\n",
       "    <tr>\n",
       "      <th>4</th>\n",
       "      <td>5</td>\n",
       "      <td>60</td>\n",
       "      <td>RL</td>\n",
       "      <td>84.0</td>\n",
       "      <td>14260</td>\n",
       "      <td>Pave</td>\n",
       "      <td>NaN</td>\n",
       "      <td>IR1</td>\n",
       "      <td>Lvl</td>\n",
       "      <td>AllPub</td>\n",
       "      <td>...</td>\n",
       "      <td>0</td>\n",
       "      <td>NaN</td>\n",
       "      <td>NaN</td>\n",
       "      <td>NaN</td>\n",
       "      <td>0</td>\n",
       "      <td>12</td>\n",
       "      <td>2008</td>\n",
       "      <td>WD</td>\n",
       "      <td>Normal</td>\n",
       "      <td>250000.0</td>\n",
       "    </tr>\n",
       "  </tbody>\n",
       "</table>\n",
       "<p>5 rows × 81 columns</p>\n",
       "</div>"
      ],
      "text/plain": [
       "   Id  MSSubClass MSZoning  LotFrontage  LotArea Street Alley LotShape  \\\n",
       "0   1          60       RL         65.0     8450   Pave   NaN      Reg   \n",
       "1   2          20       RL         80.0     9600   Pave   NaN      Reg   \n",
       "2   3          60       RL         68.0    11250   Pave   NaN      IR1   \n",
       "3   4          70       RL         60.0     9550   Pave   NaN      IR1   \n",
       "4   5          60       RL         84.0    14260   Pave   NaN      IR1   \n",
       "\n",
       "  LandContour Utilities    ...     PoolArea PoolQC Fence MiscFeature MiscVal  \\\n",
       "0         Lvl    AllPub    ...            0    NaN   NaN         NaN       0   \n",
       "1         Lvl    AllPub    ...            0    NaN   NaN         NaN       0   \n",
       "2         Lvl    AllPub    ...            0    NaN   NaN         NaN       0   \n",
       "3         Lvl    AllPub    ...            0    NaN   NaN         NaN       0   \n",
       "4         Lvl    AllPub    ...            0    NaN   NaN         NaN       0   \n",
       "\n",
       "  MoSold YrSold  SaleType  SaleCondition  SalePrice  \n",
       "0      2   2008        WD         Normal   208500.0  \n",
       "1      5   2007        WD         Normal   181500.0  \n",
       "2      9   2008        WD         Normal   223500.0  \n",
       "3      2   2006        WD        Abnorml   140000.0  \n",
       "4     12   2008        WD         Normal   250000.0  \n",
       "\n",
       "[5 rows x 81 columns]"
      ]
     },
     "execution_count": 5,
     "metadata": {},
     "output_type": "execute_result"
    }
   ],
   "source": [
    "names = list(raw)\n",
    "all_data = raw.append(test_data, ignore_index=True)[names]\n",
    "all_data.head()"
   ]
  },
  {
   "cell_type": "code",
   "execution_count": 7,
   "metadata": {},
   "outputs": [
    {
     "data": {
      "text/plain": [
       "MSZoning           4\n",
       "LotFrontage      486\n",
       "Alley           2721\n",
       "Utilities          2\n",
       "Exterior1st        1\n",
       "Exterior2nd        1\n",
       "MasVnrType        24\n",
       "MasVnrArea        23\n",
       "BsmtQual          81\n",
       "BsmtCond          82\n",
       "BsmtExposure      82\n",
       "BsmtFinType1      79\n",
       "BsmtFinSF1         1\n",
       "BsmtFinType2      80\n",
       "BsmtFinSF2         1\n",
       "BsmtUnfSF          1\n",
       "TotalBsmtSF        1\n",
       "Electrical         1\n",
       "BsmtFullBath       2\n",
       "BsmtHalfBath       2\n",
       "KitchenQual        1\n",
       "Functional         2\n",
       "FireplaceQu     1420\n",
       "GarageType       157\n",
       "GarageYrBlt      159\n",
       "GarageFinish     159\n",
       "GarageCars         1\n",
       "GarageArea         1\n",
       "GarageQual       159\n",
       "GarageCond       159\n",
       "PoolQC          2909\n",
       "Fence           2348\n",
       "MiscFeature     2814\n",
       "SaleType           1\n",
       "SalePrice       1459\n",
       "dtype: int64"
      ]
     },
     "execution_count": 7,
     "metadata": {},
     "output_type": "execute_result"
    }
   ],
   "source": [
    "missing_info = all_data.isnull().sum()\n",
    "missing_info = missing_info[missing_info != 0]\n",
    "missing_info"
   ]
  },
  {
   "cell_type": "code",
   "execution_count": 8,
   "metadata": {},
   "outputs": [
    {
     "data": {
      "text/plain": [
       "Index(['Id', 'MSSubClass', 'LotFrontage', 'LotArea', 'OverallQual',\n",
       "       'OverallCond', 'YearBuilt', 'YearRemodAdd', 'MasVnrArea', 'BsmtFinSF1',\n",
       "       'BsmtFinSF2', 'BsmtUnfSF', 'TotalBsmtSF', '1stFlrSF', '2ndFlrSF',\n",
       "       'LowQualFinSF', 'GrLivArea', 'BsmtFullBath', 'BsmtHalfBath', 'FullBath',\n",
       "       'HalfBath', 'BedroomAbvGr', 'KitchenAbvGr', 'TotRmsAbvGrd',\n",
       "       'Fireplaces', 'GarageYrBlt', 'GarageCars', 'GarageArea', 'WoodDeckSF',\n",
       "       'OpenPorchSF', 'EnclosedPorch', '3SsnPorch', 'ScreenPorch', 'PoolArea',\n",
       "       'MiscVal', 'MoSold', 'YrSold', 'SalePrice'],\n",
       "      dtype='object')"
      ]
     },
     "execution_count": 8,
     "metadata": {},
     "output_type": "execute_result"
    }
   ],
   "source": [
    "all_data.dtypes[all_data.dtypes != \"object\"].index\n",
    "# all_data = missing(all_data)"
   ]
  },
  {
   "cell_type": "code",
   "execution_count": 9,
   "metadata": {
    "collapsed": true
   },
   "outputs": [],
   "source": [
    "# num = all_data.loc[:,['LotFrontage', 'LotArea', 'MasVnrArea', 'BsmtFinSF1',\n",
    "#        'BsmtFinSF2', 'BsmtUnfSF', 'TotalBsmtSF', '1stFlrSF', '2ndFlrSF',\n",
    "#        'LowQualFinSF', 'GrLivArea', 'GarageArea', 'WoodDeckSF',\n",
    "#        'OpenPorchSF', 'EnclosedPorch', '3SsnPorch', 'ScreenPorch', 'PoolArea',\n",
    "#        'MiscVal']]\n",
    "num = ['LotFrontage', 'LotArea', 'MasVnrArea', 'BsmtFinSF1',\n",
    "       'BsmtFinSF2', 'BsmtUnfSF', 'TotalBsmtSF', '1stFlrSF', '2ndFlrSF',\n",
    "       'LowQualFinSF', 'GrLivArea', 'GarageArea', 'WoodDeckSF',\n",
    "       'OpenPorchSF', 'EnclosedPorch', '3SsnPorch', 'ScreenPorch', 'PoolArea',\n",
    "       'MiscVal']"
   ]
  },
  {
   "cell_type": "code",
   "execution_count": 10,
   "metadata": {},
   "outputs": [
    {
     "data": {
      "text/html": [
       "<div>\n",
       "<style>\n",
       "    .dataframe thead tr:only-child th {\n",
       "        text-align: right;\n",
       "    }\n",
       "\n",
       "    .dataframe thead th {\n",
       "        text-align: left;\n",
       "    }\n",
       "\n",
       "    .dataframe tbody tr th {\n",
       "        vertical-align: top;\n",
       "    }\n",
       "</style>\n",
       "<table border=\"1\" class=\"dataframe\">\n",
       "  <thead>\n",
       "    <tr style=\"text-align: right;\">\n",
       "      <th></th>\n",
       "      <th>Skew</th>\n",
       "    </tr>\n",
       "  </thead>\n",
       "  <tbody>\n",
       "    <tr>\n",
       "      <th>MiscVal</th>\n",
       "      <td>21.947195</td>\n",
       "    </tr>\n",
       "    <tr>\n",
       "      <th>PoolArea</th>\n",
       "      <td>16.898328</td>\n",
       "    </tr>\n",
       "    <tr>\n",
       "      <th>LotArea</th>\n",
       "      <td>12.822431</td>\n",
       "    </tr>\n",
       "    <tr>\n",
       "      <th>LowQualFinSF</th>\n",
       "      <td>12.088761</td>\n",
       "    </tr>\n",
       "    <tr>\n",
       "      <th>3SsnPorch</th>\n",
       "      <td>11.376065</td>\n",
       "    </tr>\n",
       "    <tr>\n",
       "      <th>BsmtFinSF2</th>\n",
       "      <td>4.145323</td>\n",
       "    </tr>\n",
       "    <tr>\n",
       "      <th>EnclosedPorch</th>\n",
       "      <td>4.003891</td>\n",
       "    </tr>\n",
       "    <tr>\n",
       "      <th>ScreenPorch</th>\n",
       "      <td>3.946694</td>\n",
       "    </tr>\n",
       "    <tr>\n",
       "      <th>MasVnrArea</th>\n",
       "      <td>2.601240</td>\n",
       "    </tr>\n",
       "    <tr>\n",
       "      <th>OpenPorchSF</th>\n",
       "      <td>2.535114</td>\n",
       "    </tr>\n",
       "    <tr>\n",
       "      <th>WoodDeckSF</th>\n",
       "      <td>1.842433</td>\n",
       "    </tr>\n",
       "    <tr>\n",
       "      <th>LotFrontage</th>\n",
       "      <td>1.502351</td>\n",
       "    </tr>\n",
       "    <tr>\n",
       "      <th>1stFlrSF</th>\n",
       "      <td>1.469604</td>\n",
       "    </tr>\n",
       "    <tr>\n",
       "      <th>BsmtFinSF1</th>\n",
       "      <td>1.424989</td>\n",
       "    </tr>\n",
       "    <tr>\n",
       "      <th>GrLivArea</th>\n",
       "      <td>1.269358</td>\n",
       "    </tr>\n",
       "    <tr>\n",
       "      <th>TotalBsmtSF</th>\n",
       "      <td>1.162285</td>\n",
       "    </tr>\n",
       "    <tr>\n",
       "      <th>BsmtUnfSF</th>\n",
       "      <td>0.919351</td>\n",
       "    </tr>\n",
       "    <tr>\n",
       "      <th>2ndFlrSF</th>\n",
       "      <td>0.861675</td>\n",
       "    </tr>\n",
       "    <tr>\n",
       "      <th>GarageArea</th>\n",
       "      <td>0.241176</td>\n",
       "    </tr>\n",
       "  </tbody>\n",
       "</table>\n",
       "</div>"
      ],
      "text/plain": [
       "                    Skew\n",
       "MiscVal        21.947195\n",
       "PoolArea       16.898328\n",
       "LotArea        12.822431\n",
       "LowQualFinSF   12.088761\n",
       "3SsnPorch      11.376065\n",
       "BsmtFinSF2      4.145323\n",
       "EnclosedPorch   4.003891\n",
       "ScreenPorch     3.946694\n",
       "MasVnrArea      2.601240\n",
       "OpenPorchSF     2.535114\n",
       "WoodDeckSF      1.842433\n",
       "LotFrontage     1.502351\n",
       "1stFlrSF        1.469604\n",
       "BsmtFinSF1      1.424989\n",
       "GrLivArea       1.269358\n",
       "TotalBsmtSF     1.162285\n",
       "BsmtUnfSF       0.919351\n",
       "2ndFlrSF        0.861675\n",
       "GarageArea      0.241176"
      ]
     },
     "execution_count": 10,
     "metadata": {},
     "output_type": "execute_result"
    }
   ],
   "source": [
    "skewed_feats = all_data[num].apply(lambda x: skew(x.dropna())).sort_values(ascending=False)\n",
    "skewed_feats\n",
    "skewness = pd.DataFrame({'Skew' :skewed_feats})\n",
    "skewness"
   ]
  },
  {
   "cell_type": "markdown",
   "metadata": {},
   "source": [
    "# after log"
   ]
  },
  {
   "cell_type": "code",
   "execution_count": 194,
   "metadata": {},
   "outputs": [
    {
     "data": {
      "text/html": [
       "<div>\n",
       "<style>\n",
       "    .dataframe thead tr:only-child th {\n",
       "        text-align: right;\n",
       "    }\n",
       "\n",
       "    .dataframe thead th {\n",
       "        text-align: left;\n",
       "    }\n",
       "\n",
       "    .dataframe tbody tr th {\n",
       "        vertical-align: top;\n",
       "    }\n",
       "</style>\n",
       "<table border=\"1\" class=\"dataframe\">\n",
       "  <thead>\n",
       "    <tr style=\"text-align: right;\">\n",
       "      <th></th>\n",
       "      <th>Skew</th>\n",
       "    </tr>\n",
       "  </thead>\n",
       "  <tbody>\n",
       "    <tr>\n",
       "      <th>PoolArea</th>\n",
       "      <td>15.119426</td>\n",
       "    </tr>\n",
       "    <tr>\n",
       "      <th>3SsnPorch</th>\n",
       "      <td>8.924822</td>\n",
       "    </tr>\n",
       "    <tr>\n",
       "      <th>LowQualFinSF</th>\n",
       "      <td>8.744143</td>\n",
       "    </tr>\n",
       "    <tr>\n",
       "      <th>MiscVal</th>\n",
       "      <td>5.597060</td>\n",
       "    </tr>\n",
       "    <tr>\n",
       "      <th>ScreenPorch</th>\n",
       "      <td>2.978396</td>\n",
       "    </tr>\n",
       "    <tr>\n",
       "      <th>BsmtFinSF2</th>\n",
       "      <td>2.564481</td>\n",
       "    </tr>\n",
       "    <tr>\n",
       "      <th>EnclosedPorch</th>\n",
       "      <td>2.025461</td>\n",
       "    </tr>\n",
       "    <tr>\n",
       "      <th>MasVnrArea</th>\n",
       "      <td>0.636361</td>\n",
       "    </tr>\n",
       "    <tr>\n",
       "      <th>2ndFlrSF</th>\n",
       "      <td>0.327362</td>\n",
       "    </tr>\n",
       "    <tr>\n",
       "      <th>1stFlrSF</th>\n",
       "      <td>0.223905</td>\n",
       "    </tr>\n",
       "    <tr>\n",
       "      <th>WoodDeckSF</th>\n",
       "      <td>0.222631</td>\n",
       "    </tr>\n",
       "    <tr>\n",
       "      <th>LotArea</th>\n",
       "      <td>0.210453</td>\n",
       "    </tr>\n",
       "    <tr>\n",
       "      <th>GrLivArea</th>\n",
       "      <td>0.175316</td>\n",
       "    </tr>\n",
       "    <tr>\n",
       "      <th>OpenPorchSF</th>\n",
       "      <td>0.100164</td>\n",
       "    </tr>\n",
       "    <tr>\n",
       "      <th>BsmtFinSF1</th>\n",
       "      <td>-0.486920</td>\n",
       "    </tr>\n",
       "    <tr>\n",
       "      <th>LotFrontage</th>\n",
       "      <td>-0.737114</td>\n",
       "    </tr>\n",
       "    <tr>\n",
       "      <th>BsmtUnfSF</th>\n",
       "      <td>-1.538259</td>\n",
       "    </tr>\n",
       "    <tr>\n",
       "      <th>GarageArea</th>\n",
       "      <td>-3.042465</td>\n",
       "    </tr>\n",
       "    <tr>\n",
       "      <th>TotalBsmtSF</th>\n",
       "      <td>-3.961274</td>\n",
       "    </tr>\n",
       "  </tbody>\n",
       "</table>\n",
       "</div>"
      ],
      "text/plain": [
       "                    Skew\n",
       "PoolArea       15.119426\n",
       "3SsnPorch       8.924822\n",
       "LowQualFinSF    8.744143\n",
       "MiscVal         5.597060\n",
       "ScreenPorch     2.978396\n",
       "BsmtFinSF2      2.564481\n",
       "EnclosedPorch   2.025461\n",
       "MasVnrArea      0.636361\n",
       "2ndFlrSF        0.327362\n",
       "1stFlrSF        0.223905\n",
       "WoodDeckSF      0.222631\n",
       "LotArea         0.210453\n",
       "GrLivArea       0.175316\n",
       "OpenPorchSF     0.100164\n",
       "BsmtFinSF1     -0.486920\n",
       "LotFrontage    -0.737114\n",
       "BsmtUnfSF      -1.538259\n",
       "GarageArea     -3.042465\n",
       "TotalBsmtSF    -3.961274"
      ]
     },
     "execution_count": 194,
     "metadata": {},
     "output_type": "execute_result"
    }
   ],
   "source": [
    "skewed_feats = all_data[num].apply(lambda x: skew(x.dropna())).sort_values(ascending=False)\n",
    "skewed_feats\n",
    "skewness = pd.DataFrame({'Skew' :skewed_feats})\n",
    "skewness"
   ]
  },
  {
   "cell_type": "code",
   "execution_count": 176,
   "metadata": {},
   "outputs": [
    {
     "data": {
      "text/plain": [
       "LotFrontage      0.334366\n",
       "LotArea          0.257320\n",
       "MasVnrArea       0.426776\n",
       "BsmtFinSF1       0.372023\n",
       "BsmtFinSF2       0.004832\n",
       "BsmtUnfSF        0.221985\n",
       "TotalBsmtSF      0.612134\n",
       "1stFlrSF         0.596981\n",
       "2ndFlrSF         0.319300\n",
       "LowQualFinSF    -0.037963\n",
       "GrLivArea        0.700927\n",
       "GarageArea       0.650888\n",
       "WoodDeckSF       0.334135\n",
       "OpenPorchSF      0.321053\n",
       "EnclosedPorch   -0.149050\n",
       "3SsnPorch        0.054900\n",
       "ScreenPorch      0.121208\n",
       "PoolArea         0.069798\n",
       "MiscVal         -0.020021\n",
       "SalePrice        1.000000\n",
       "Name: SalePrice, dtype: float64"
      ]
     },
     "execution_count": 176,
     "metadata": {},
     "output_type": "execute_result"
    }
   ],
   "source": [
    "all_data.loc[:,num+['SalePrice']].corr().iloc[:,-1]"
   ]
  },
  {
   "cell_type": "code",
   "execution_count": 48,
   "metadata": {},
   "outputs": [
    {
     "data": {
      "text/plain": [
       "<matplotlib.axes._subplots.AxesSubplot at 0x15b5882f518>"
      ]
     },
     "execution_count": 48,
     "metadata": {},
     "output_type": "execute_result"
    },
    {
     "data": {
      "image/png": "[encoded data removed]",
      "text/plain": [
       "<matplotlib.figure.Figure at 0x15b587beef0>"
      ]
     },
     "metadata": {},
     "output_type": "display_data"
    }
   ],
   "source": [
    "sns.distplot(all_data['PoolArea'])"
   ]
  },
  {
   "cell_type": "code",
   "execution_count": 71,
   "metadata": {},
   "outputs": [
    {
     "data": {
      "text/plain": [
       "<matplotlib.axes._subplots.AxesSubplot at 0x1ed26080128>"
      ]
     },
     "execution_count": 71,
     "metadata": {},
     "output_type": "execute_result"
    },
    {
     "data": {
      "image/png": "[encoded data removed]",
      "text/plain": [
       "<matplotlib.figure.Figure at 0x1ed25aa8438>"
      ]
     },
     "metadata": {},
     "output_type": "display_data"
    }
   ],
   "source": [
    "sns.distplot(raw['SalePrice'])"
   ]
  },
  {
   "cell_type": "code",
   "execution_count": 138,
   "metadata": {},
   "outputs": [
    {
     "data": {
      "text/plain": [
       "<matplotlib.axes._subplots.AxesSubplot at 0x15b5b36dbe0>"
      ]
     },
     "execution_count": 138,
     "metadata": {},
     "output_type": "execute_result"
    },
    {
     "data": {
      "image/png": "[encoded data removed]",
      "text/plain": [
       "<matplotlib.figure.Figure at 0x15b5b36dac8>"
      ]
     },
     "metadata": {},
     "output_type": "display_data"
    }
   ],
   "source": [
    "cor = raw.corr()\n",
    "plt.subplots(figsize=(12,9))\n",
    "sns.heatmap(cor, vmax=0.9, square=True)"
   ]
  },
  {
   "cell_type": "markdown",
   "metadata": {},
   "source": [
    "# Preprocessing"
   ]
  },
  {
   "cell_type": "code",
   "execution_count": 14,
   "metadata": {
    "collapsed": true
   },
   "outputs": [],
   "source": [
    "# dummies = [1,2,5,6,7,8,10,11,12,13,14,15,16,21,22,23,24,25,29,35,39,41,42,52,55,56,58,74,76,77,78,79]\n",
    "# # dummies = [1,2,5,6,7,8,10,11,12,13,14,15,16,21,22,23,24,25,29,35,39,41,42,52,55,56,58,74,76,77,78,79,9,27,28,30,31,32,33,40,53,57,60,63,64,65,72,73]\n",
    "\n",
    "# # ordinal = [17,18,27,28,30,31,32,33,40,47,48,49,50,51,53,54,57,60,61,63,64,65,72,73]\n",
    "\n",
    "# transform = {'Ex':5, 'Gd':4, 'TA':3, 'Fa':2, 'Po':1, 'Av':3, 'Mn':2, 'No':1, 'GLQ':6, 'ALQ':5, 'BLQ':4, 'Rec':3,\n",
    "#             'LwQ':2, 'Unf':1, 'Fin':3, 'RFn':2, 'Unf':1, 'Y':3, 'P':2, 'N':1, 'GdPrv':4, 'MnPrv':3, 'GdWo':2, 'MnWw':1,\n",
    "#             'AllPub':4, 'NoSewr':3, 'NoSeWa':2, 'ELO':1}\n",
    "\n",
    "# data_dummy = []\n",
    "# feature_name=np.array(raw.keys())\n",
    "# for i in dummies:\n",
    "#     data_dummy.append(pd.get_dummies(raw.iloc[:,i], prefix=feature_name[i]))\n",
    "# data_dummy.append(raw.drop(list(raw.iloc[:,dummies]),axis=1))\n",
    "# data_dummy = pd.concat(data_dummy,axis=1)\n",
    "\n",
    "# data_dummy.replace(transform, inplace=True)\n",
    "# # data_dummy.replace('Ex', )\n",
    "\n",
    "\n",
    "\n",
    "\n",
    "#function:\n",
    "def preprocess(new):    \n",
    "    dummies = [1,2,5,6,7,8,10,11,12,13,14,15,16,21,22,23,24,25,29,35,39,41,42,52,55,56,58,74,76,77,78,79]\n",
    "    # dummies = [1,2,5,6,7,8,10,11,12,13,14,15,16,21,22,23,24,25,29,35,39,41,42,52,55,56,58,74,76,77,78,79,9,27,28,30,31,32,33,40,53,57,60,63,64,65,72,73]\n",
    "\n",
    "    # ordinal = [17,18,27,28,30,31,32,33,40,47,48,49,50,51,53,54,57,60,61,63,64,65,72,73]\n",
    "\n",
    "    transform = {'Ex':5, 'Gd':4, 'TA':3, 'Fa':2, 'Po':1, 'Av':3, 'Mn':2, 'No':1, 'GLQ':6, 'ALQ':5, 'BLQ':4, 'Rec':3,\n",
    "                'LwQ':2, 'Unf':1, 'Fin':3, 'RFn':2, 'Unf':1, 'Y':3, 'P':2, 'N':1, 'GdPrv':4, 'MnPrv':3, 'GdWo':2, 'MnWw':1,\n",
    "                'AllPub':4, 'NoSewr':3, 'NoSeWa':2, 'ELO':1}\n",
    "\n",
    "#     new = raw.copy()\n",
    "#     new['Alley'] = new['Alley'].fillna('N')\n",
    "#     new['LotFrontage'] = new['LotFrontage'].fillna(new['LotFrontage'].median())\n",
    "#     new['MasVnrType'] = new['MasVnrType'].fillna('N')\n",
    "#     new['MasVnrArea'] = new['MasVnrArea'].fillna(0)\n",
    "#     new['BsmtQual'] = new['BsmtQual'].fillna(0)\n",
    "#     new['BsmtCond'] = new['BsmtCond'].fillna(0)\n",
    "#     new['BsmtExposure'] = new['BsmtExposure'].fillna(0)\n",
    "#     new['BsmtFinType1'] = new['BsmtFinType1'].fillna(0)\n",
    "#     new['BsmtFinType2'] = new['BsmtFinType2'].fillna(0)\n",
    "#     new['Electrical'] = new['Electrical'].fillna('N')\n",
    "#     new['FireplaceQu'] = new['FireplaceQu'].fillna(0)\n",
    "#     new['GarageType'] = new['GarageType'].fillna('N')\n",
    "#     new['GarageYrBlt'] = new['GarageYrBlt'].fillna(new['GarageYrBlt'].min())\n",
    "#     new['GarageFinish'] = new['GarageFinish'].fillna(0)\n",
    "#     new['GarageQual'] = new['GarageQual'].fillna(0)\n",
    "#     new['GarageCond'] = new['GarageCond'].fillna(0)\n",
    "#     new['PoolQC'] = new['PoolQC'].fillna(0)\n",
    "#     new['Fence'] = new['Fence'].fillna(0)\n",
    "#     new['MiscFeature'] = new['MiscFeature'].fillna('N')\n",
    "\n",
    "    data_dummy = []\n",
    "    feature_name=np.array(new.keys())\n",
    "    for i in dummies:\n",
    "        data_dummy.append(pd.get_dummies(new.iloc[:,i], prefix=feature_name[i]))\n",
    "    data_dummy.append(new.drop(list(raw.iloc[:,dummies]),axis=1))\n",
    "    data_dummy = pd.concat(data_dummy,axis=1)\n",
    "\n",
    "    data_dummy.replace(transform, inplace=True)\n",
    "    # data_dummy.replace('Ex', )\n",
    "\n",
    "    # data_dummy['LotFrontage'] = data_dummy['LotFrontage'].fillna(data_dummy['LotFrontage'].median())\n",
    "\n",
    "#     X_train_CV, X_test_f, Y_train_CV, Y_test_f = train_test_split(data_dummy.iloc[:,1:-1], data_dummy.iloc[:,-1],random_state=seed, test_size=0.2)\n",
    "#     # X_train, X_test, Y_train, Y_test = train_test_split(X_train_CV, Y_train_CV,random_state=0)\n",
    "#     # X_train_CV, X_test_f, Y_train_CV, Y_test_f = train_test_split(raw, l.iloc[:,-1],random_state=seed, test_size=0.2)\n",
    "\n",
    "#     baseline = xgb.XGBRegressor(seed=seed)\n",
    "#     print(np.mean(cross_val_score(baseline, X_train_CV, Y_train_CV, cv=5)))\n",
    "    return data_dummy\n",
    "\n",
    "\n",
    "def missing(new):\n",
    "#     new = raw.copy()\n",
    "    new['Alley'] = new['Alley'].fillna('N')\n",
    "#     new['LotFrontage'] = new['LotFrontage'].fillna(new['LotFrontage'].median())\n",
    "    new[\"LotFrontage\"] = new.groupby(\"Neighborhood\")[\"LotFrontage\"].transform(\n",
    "    lambda x: x.fillna(x.median()))\n",
    "    new['MasVnrType'] = new['MasVnrType'].fillna('N')\n",
    "    new['MasVnrArea'] = new['MasVnrArea'].fillna(0)\n",
    "    new['BsmtQual'] = new['BsmtQual'].fillna(0)\n",
    "    new['BsmtCond'] = new['BsmtCond'].fillna(0)\n",
    "    new['BsmtExposure'] = new['BsmtExposure'].fillna(0)\n",
    "    new['BsmtFinType1'] = new['BsmtFinType1'].fillna(0)\n",
    "    new['BsmtFinType2'] = new['BsmtFinType2'].fillna(0)\n",
    "    new['Electrical'] = new['Electrical'].fillna('N')\n",
    "    new['FireplaceQu'] = new['FireplaceQu'].fillna(0)\n",
    "    new['GarageType'] = new['GarageType'].fillna('N')\n",
    "    new['GarageYrBlt'] = new['GarageYrBlt'].fillna(new['GarageYrBlt'].min())\n",
    "    new['GarageFinish'] = new['GarageFinish'].fillna(0)\n",
    "    new['GarageQual'] = new['GarageQual'].fillna(0)\n",
    "    new['GarageCond'] = new['GarageCond'].fillna(0)\n",
    "    new['PoolQC'] = new['PoolQC'].fillna(0)\n",
    "    new['Fence'] = new['Fence'].fillna(0)\n",
    "    new['MiscFeature'] = new['MiscFeature'].fillna('N')\n",
    "    \n",
    "    new['MSZoning'] = new['MSZoning'].fillna('N')\n",
    "    new['Utilities'] = new['Utilities'].fillna('N')\n",
    "    new['Exterior1st'] = new['Exterior1st'].fillna('N')\n",
    "    new['Exterior2nd'] = new['Exterior2nd'].fillna('N')\n",
    "    new['BsmtFinSF1'] = new['BsmtFinSF1'].fillna(0)\n",
    "    new['BsmtFinSF2'] = new['BsmtFinSF2'].fillna(0)\n",
    "    new['BsmtUnfSF'] = new['BsmtUnfSF'].fillna(new['BsmtUnfSF'].max())\n",
    "    new['TotalBsmtSF'] = new['TotalBsmtSF'].fillna(0)\n",
    "    new['BsmtFullBath'] = new['BsmtFullBath'].fillna(0)\n",
    "    new['BsmtHalfBath'] = new['BsmtHalfBath'].fillna(0)\n",
    "    new['KitchenQual'] = new['KitchenQual'].fillna(0)\n",
    "    new['Functional'] = new['Functional'].fillna('N')\n",
    "    new['GarageCars'] = new['GarageCars'].fillna(0)\n",
    "    new['GarageArea'] = new['GarageArea'].fillna(0)\n",
    "    new['SaleType'] = new['SaleType'].fillna('Oth')\n",
    "\n",
    "    return new\n"
   ]
  },
  {
   "cell_type": "code",
   "execution_count": 28,
   "metadata": {
    "collapsed": true
   },
   "outputs": [],
   "source": [
    "raw['SalePrice'] = np.log1p(raw['SalePrice'])\n",
    "training_Y = raw['SalePrice']"
   ]
  },
  {
   "cell_type": "code",
   "execution_count": 12,
   "metadata": {},
   "outputs": [
    {
     "data": {
      "text/plain": [
       "<matplotlib.axes._subplots.AxesSubplot at 0x19d0f80cf98>"
      ]
     },
     "execution_count": 12,
     "metadata": {},
     "output_type": "execute_result"
    },
    {
     "data": {
      "image/png": "[encoded data removed]",
      "text/plain": [
       "<matplotlib.figure.Figure at 0x19d0b607eb8>"
      ]
     },
     "metadata": {},
     "output_type": "display_data"
    }
   ],
   "source": [
    "sns.distplot(raw['SalePrice'])"
   ]
  },
  {
   "cell_type": "code",
   "execution_count": 29,
   "metadata": {},
   "outputs": [],
   "source": [
    "# raw, test_data = missing(raw.iloc[:,1:]), missing(test_data.iloc[:,1:])\n",
    "# raw, test_data = missing(raw), missing(test_data)\n",
    "names = list(raw)\n",
    "all_data = raw.append(test_data, ignore_index=True)[names]\n",
    "all_data = missing(all_data)\n",
    "all_data = all_data.drop(['SalePrice'],axis=1)\n",
    "\n",
    "all_data = preprocess(all_data)\n",
    "all_data = all_data.drop(['Id'],axis=1)\n",
    "all_data = all_data.drop(['Utilities'],axis=1)\n",
    "all_data['TotalSF'] = all_data['TotalBsmtSF'] + all_data['1stFlrSF'] + all_data['2ndFlrSF']\n",
    "\n",
    "# all_data['SalePrice'] = raw['SalePrice']"
   ]
  },
  {
   "cell_type": "code",
   "execution_count": 187,
   "metadata": {
    "collapsed": true
   },
   "outputs": [],
   "source": [
    "#not to use this(RMSE increase)\n",
    "#log transformation for skewed features\n",
    "from scipy.special import boxcox1p\n",
    "skewed_features = skewness.index\n",
    "lam = 0.15\n",
    "for feat in skewed_features:\n",
    "    #all_data[feat] += 1\n",
    "    all_data[feat] = boxcox1p(all_data[feat], lam)"
   ]
  },
  {
   "cell_type": "code",
   "execution_count": 30,
   "metadata": {
    "collapsed": true
   },
   "outputs": [],
   "source": [
    "training_X = all_data.iloc[:1460,:]\n",
    "# training_Y = all_data.iloc[:1460,-1]\n",
    "testing_X = all_data.iloc[1460:,:]\n",
    "# training_X.to_csv('training.csv', index=False)\n",
    "# testing_X.to_csv('testing.csv',index=False)"
   ]
  },
  {
   "cell_type": "code",
   "execution_count": 17,
   "metadata": {},
   "outputs": [
    {
     "data": {
      "text/html": [
       "<div>\n",
       "<style>\n",
       "    .dataframe thead tr:only-child th {\n",
       "        text-align: right;\n",
       "    }\n",
       "\n",
       "    .dataframe thead th {\n",
       "        text-align: left;\n",
       "    }\n",
       "\n",
       "    .dataframe tbody tr th {\n",
       "        vertical-align: top;\n",
       "    }\n",
       "</style>\n",
       "<table border=\"1\" class=\"dataframe\">\n",
       "  <thead>\n",
       "    <tr style=\"text-align: right;\">\n",
       "      <th></th>\n",
       "      <th>MSSubClass_20</th>\n",
       "      <th>MSSubClass_30</th>\n",
       "      <th>MSSubClass_40</th>\n",
       "      <th>MSSubClass_45</th>\n",
       "      <th>MSSubClass_50</th>\n",
       "      <th>MSSubClass_60</th>\n",
       "      <th>MSSubClass_70</th>\n",
       "      <th>MSSubClass_75</th>\n",
       "      <th>MSSubClass_80</th>\n",
       "      <th>MSSubClass_85</th>\n",
       "      <th>...</th>\n",
       "      <th>WoodDeckSF</th>\n",
       "      <th>OpenPorchSF</th>\n",
       "      <th>EnclosedPorch</th>\n",
       "      <th>3SsnPorch</th>\n",
       "      <th>ScreenPorch</th>\n",
       "      <th>PoolArea</th>\n",
       "      <th>PoolQC</th>\n",
       "      <th>Fence</th>\n",
       "      <th>MiscVal</th>\n",
       "      <th>TotalSF</th>\n",
       "    </tr>\n",
       "  </thead>\n",
       "  <tbody>\n",
       "    <tr>\n",
       "      <th>0</th>\n",
       "      <td>0</td>\n",
       "      <td>0</td>\n",
       "      <td>0</td>\n",
       "      <td>0</td>\n",
       "      <td>0</td>\n",
       "      <td>1</td>\n",
       "      <td>0</td>\n",
       "      <td>0</td>\n",
       "      <td>0</td>\n",
       "      <td>0</td>\n",
       "      <td>...</td>\n",
       "      <td>0</td>\n",
       "      <td>61</td>\n",
       "      <td>0</td>\n",
       "      <td>0</td>\n",
       "      <td>0</td>\n",
       "      <td>0</td>\n",
       "      <td>0</td>\n",
       "      <td>0</td>\n",
       "      <td>0</td>\n",
       "      <td>2566.0</td>\n",
       "    </tr>\n",
       "    <tr>\n",
       "      <th>1</th>\n",
       "      <td>1</td>\n",
       "      <td>0</td>\n",
       "      <td>0</td>\n",
       "      <td>0</td>\n",
       "      <td>0</td>\n",
       "      <td>0</td>\n",
       "      <td>0</td>\n",
       "      <td>0</td>\n",
       "      <td>0</td>\n",
       "      <td>0</td>\n",
       "      <td>...</td>\n",
       "      <td>298</td>\n",
       "      <td>0</td>\n",
       "      <td>0</td>\n",
       "      <td>0</td>\n",
       "      <td>0</td>\n",
       "      <td>0</td>\n",
       "      <td>0</td>\n",
       "      <td>0</td>\n",
       "      <td>0</td>\n",
       "      <td>2524.0</td>\n",
       "    </tr>\n",
       "    <tr>\n",
       "      <th>2</th>\n",
       "      <td>0</td>\n",
       "      <td>0</td>\n",
       "      <td>0</td>\n",
       "      <td>0</td>\n",
       "      <td>0</td>\n",
       "      <td>1</td>\n",
       "      <td>0</td>\n",
       "      <td>0</td>\n",
       "      <td>0</td>\n",
       "      <td>0</td>\n",
       "      <td>...</td>\n",
       "      <td>0</td>\n",
       "      <td>42</td>\n",
       "      <td>0</td>\n",
       "      <td>0</td>\n",
       "      <td>0</td>\n",
       "      <td>0</td>\n",
       "      <td>0</td>\n",
       "      <td>0</td>\n",
       "      <td>0</td>\n",
       "      <td>2706.0</td>\n",
       "    </tr>\n",
       "    <tr>\n",
       "      <th>3</th>\n",
       "      <td>0</td>\n",
       "      <td>0</td>\n",
       "      <td>0</td>\n",
       "      <td>0</td>\n",
       "      <td>0</td>\n",
       "      <td>0</td>\n",
       "      <td>1</td>\n",
       "      <td>0</td>\n",
       "      <td>0</td>\n",
       "      <td>0</td>\n",
       "      <td>...</td>\n",
       "      <td>0</td>\n",
       "      <td>35</td>\n",
       "      <td>272</td>\n",
       "      <td>0</td>\n",
       "      <td>0</td>\n",
       "      <td>0</td>\n",
       "      <td>0</td>\n",
       "      <td>0</td>\n",
       "      <td>0</td>\n",
       "      <td>2473.0</td>\n",
       "    </tr>\n",
       "    <tr>\n",
       "      <th>4</th>\n",
       "      <td>0</td>\n",
       "      <td>0</td>\n",
       "      <td>0</td>\n",
       "      <td>0</td>\n",
       "      <td>0</td>\n",
       "      <td>1</td>\n",
       "      <td>0</td>\n",
       "      <td>0</td>\n",
       "      <td>0</td>\n",
       "      <td>0</td>\n",
       "      <td>...</td>\n",
       "      <td>192</td>\n",
       "      <td>84</td>\n",
       "      <td>0</td>\n",
       "      <td>0</td>\n",
       "      <td>0</td>\n",
       "      <td>0</td>\n",
       "      <td>0</td>\n",
       "      <td>0</td>\n",
       "      <td>0</td>\n",
       "      <td>3343.0</td>\n",
       "    </tr>\n",
       "  </tbody>\n",
       "</table>\n",
       "<p>5 rows × 285 columns</p>\n",
       "</div>"
      ],
      "text/plain": [
       "   MSSubClass_20  MSSubClass_30  MSSubClass_40  MSSubClass_45  MSSubClass_50  \\\n",
       "0              0              0              0              0              0   \n",
       "1              1              0              0              0              0   \n",
       "2              0              0              0              0              0   \n",
       "3              0              0              0              0              0   \n",
       "4              0              0              0              0              0   \n",
       "\n",
       "   MSSubClass_60  MSSubClass_70  MSSubClass_75  MSSubClass_80  MSSubClass_85  \\\n",
       "0              1              0              0              0              0   \n",
       "1              0              0              0              0              0   \n",
       "2              1              0              0              0              0   \n",
       "3              0              1              0              0              0   \n",
       "4              1              0              0              0              0   \n",
       "\n",
       "    ...     WoodDeckSF  OpenPorchSF  EnclosedPorch  3SsnPorch  ScreenPorch  \\\n",
       "0   ...              0           61              0          0            0   \n",
       "1   ...            298            0              0          0            0   \n",
       "2   ...              0           42              0          0            0   \n",
       "3   ...              0           35            272          0            0   \n",
       "4   ...            192           84              0          0            0   \n",
       "\n",
       "   PoolArea  PoolQC  Fence  MiscVal  TotalSF  \n",
       "0         0       0      0        0   2566.0  \n",
       "1         0       0      0        0   2524.0  \n",
       "2         0       0      0        0   2706.0  \n",
       "3         0       0      0        0   2473.0  \n",
       "4         0       0      0        0   3343.0  \n",
       "\n",
       "[5 rows x 285 columns]"
      ]
     },
     "execution_count": 17,
     "metadata": {},
     "output_type": "execute_result"
    }
   ],
   "source": [
    "training_X.head()"
   ]
  },
  {
   "cell_type": "markdown",
   "metadata": {},
   "source": [
    "# Split data"
   ]
  },
  {
   "cell_type": "code",
   "execution_count": 31,
   "metadata": {
    "collapsed": true
   },
   "outputs": [],
   "source": [
    "X_train_CV, X_test_f, Y_train_CV, Y_test_f = train_test_split(training_X, training_Y,random_state=seed, test_size=0.2)\n",
    "# X_train, X_test, Y_train, Y_test = train_test_split(X_train_CV, Y_train_CV,random_state=0)\n",
    "# X_train_CV, X_test_f, Y_train_CV, Y_test_f = train_test_split(raw, l.iloc[:,-1],random_state=seed, test_size=0.2)"
   ]
  },
  {
   "cell_type": "code",
   "execution_count": 19,
   "metadata": {},
   "outputs": [
    {
     "data": {
      "text/plain": [
       "0    12.247699\n",
       "1    12.109016\n",
       "2    12.317171\n",
       "3    11.849405\n",
       "4    12.429220\n",
       "Name: SalePrice, dtype: float64"
      ]
     },
     "execution_count": 19,
     "metadata": {},
     "output_type": "execute_result"
    }
   ],
   "source": [
    "training_Y.head()"
   ]
  },
  {
   "cell_type": "markdown",
   "metadata": {},
   "source": [
    "# Baseline Model"
   ]
  },
  {
   "cell_type": "code",
   "execution_count": 32,
   "metadata": {},
   "outputs": [
    {
     "name": "stdout",
     "output_type": "stream",
     "text": [
      "0.122999474193\n"
     ]
    },
    {
     "data": {
      "text/plain": [
       "0.11112878200126855"
      ]
     },
     "execution_count": 32,
     "metadata": {},
     "output_type": "execute_result"
    }
   ],
   "source": [
    "# baseline = xgb.XGBRegressor(seed=seed)\n",
    "from sklearn.metrics import mean_squared_error\n",
    "baseline = Lasso(alpha=0.0005)\n",
    "s = -np.mean(cross_val_score(baseline, X_train_CV, Y_train_CV, cv=5,scoring='neg_mean_squared_error'))\n",
    "print(s**0.5)\n",
    "baseline.fit(training_X,training_Y)\n",
    "pred = baseline.predict(X_test_f)\n",
    "mean_squared_error(pred, Y_test_f)**0.5"
   ]
  },
  {
   "cell_type": "code",
   "execution_count": 21,
   "metadata": {
    "collapsed": true
   },
   "outputs": [],
   "source": [
    "def getresult(prediction_result,filename):\n",
    "    result=pd.DataFrame(index=test_data['Id'])\n",
    "    result['SalePrice']=prediction_result\n",
    "    result.to_csv(filename)"
   ]
  },
  {
   "cell_type": "markdown",
   "metadata": {},
   "source": [
    "# First Test"
   ]
  },
  {
   "cell_type": "code",
   "execution_count": 12,
   "metadata": {},
   "outputs": [
    {
     "ename": "NameError",
     "evalue": "name 'getresult' is not defined",
     "output_type": "error",
     "traceback": [
      "\u001b[1;31m---------------------------------------------------------------------------\u001b[0m",
      "\u001b[1;31mNameError\u001b[0m                                 Traceback (most recent call last)",
      "\u001b[1;32m<ipython-input-12-b8ab3c595b62>\u001b[0m in \u001b[0;36m<module>\u001b[1;34m()\u001b[0m\n\u001b[0;32m      3\u001b[0m \u001b[0mmodel\u001b[0m\u001b[1;33m.\u001b[0m\u001b[0mfit\u001b[0m\u001b[1;33m(\u001b[0m\u001b[0mtraining_X\u001b[0m\u001b[1;33m,\u001b[0m \u001b[0mtraining_Y\u001b[0m\u001b[1;33m)\u001b[0m\u001b[1;33m\u001b[0m\u001b[0m\n\u001b[0;32m      4\u001b[0m \u001b[0mpred\u001b[0m \u001b[1;33m=\u001b[0m \u001b[0mmodel\u001b[0m\u001b[1;33m.\u001b[0m\u001b[0mpredict\u001b[0m\u001b[1;33m(\u001b[0m\u001b[0mtesting_X\u001b[0m\u001b[1;33m)\u001b[0m\u001b[1;33m\u001b[0m\u001b[0m\n\u001b[1;32m----> 5\u001b[1;33m \u001b[0mgetresult\u001b[0m\u001b[1;33m(\u001b[0m\u001b[0mpred\u001b[0m\u001b[1;33m,\u001b[0m\u001b[1;34m'1.csv'\u001b[0m\u001b[1;33m)\u001b[0m\u001b[1;33m\u001b[0m\u001b[0m\n\u001b[0m",
      "\u001b[1;31mNameError\u001b[0m: name 'getresult' is not defined"
     ]
    }
   ],
   "source": [
    "import time\n",
    "model = Lasso(alpha=0.0005)\n",
    "model.fit(training_X, training_Y)\n",
    "pred = model.predict(testing_X)\n",
    "getresult(pred,'1.csv')\n"
   ]
  },
  {
   "attachments": {
    "%E5%9B%BE%E7%89%87.png": {
     "image/png": "[encoded data removed]"
    }
   },
   "cell_type": "markdown",
   "metadata": {},
   "source": [
    "![%E5%9B%BE%E7%89%87.png](attachment:%E5%9B%BE%E7%89%87.png)"
   ]
  },
  {
   "cell_type": "markdown",
   "metadata": {},
   "source": [
    "# Scaling\n",
    "do not work, might because outliers"
   ]
  },
  {
   "cell_type": "code",
   "execution_count": 22,
   "metadata": {
    "collapsed": true
   },
   "outputs": [],
   "source": [
    "\n",
    "scaler = MinMaxScaler().fit(training_X)\n",
    "training_X = scaler.transform(training_X)\n",
    "testing_X = scaler.transform(testing_X)\n",
    "\n",
    "\n",
    "X_train_CV, X_test_f, Y_train_CV, Y_test_f = train_test_split(training_X, training_Y,random_state=seed, test_size=0.2)"
   ]
  },
  {
   "cell_type": "code",
   "execution_count": 23,
   "metadata": {
    "collapsed": true
   },
   "outputs": [],
   "source": [
    "training_X = pd.DataFrame(training_X)\n",
    "testing_X = pd.DataFrame(testing_X)\n",
    "training_X['price'] = pd.DataFrame(training_Y).reset_index(drop=True)\n",
    "training_X.to_csv('training_o_s_logf.csv', index=False)\n",
    "testing_X.to_csv('testing_o_s_logf.csv',index=False)"
   ]
  },
  {
   "cell_type": "code",
   "execution_count": 24,
   "metadata": {},
   "outputs": [
    {
     "name": "stdout",
     "output_type": "stream",
     "text": [
      "0.122451248477\n"
     ]
    },
    {
     "data": {
      "text/plain": [
       "0.17213692624434027"
      ]
     },
     "execution_count": 24,
     "metadata": {},
     "output_type": "execute_result"
    }
   ],
   "source": [
    "# baseline = xgb.XGBRegressor(seed=seed)\n",
    "from sklearn.metrics import mean_squared_error\n",
    "baseline = Lasso(alpha=0.0005)\n",
    "s = -np.mean(cross_val_score(baseline, X_train_CV, Y_train_CV, cv=5,scoring='neg_mean_squared_error'))\n",
    "print(s**0.5)\n",
    "baseline.fit(X_train_CV,Y_train_CV)\n",
    "pred = baseline.predict(X_test_f)\n",
    "mean_squared_error(pred, Y_test_f)**0.5"
   ]
  },
  {
   "cell_type": "code",
   "execution_count": 16,
   "metadata": {
    "collapsed": true
   },
   "outputs": [],
   "source": [
    "import time\n",
    "model = Lasso(alpha=0.0005)\n",
    "model.fit(training_X, training_Y)\n",
    "pred = model.predict(testing_X)\n",
    "getresult(pred,'2.csv')\n"
   ]
  },
  {
   "cell_type": "markdown",
   "metadata": {},
   "source": [
    "# Outliers"
   ]
  },
  {
   "cell_type": "code",
   "execution_count": 33,
   "metadata": {},
   "outputs": [
    {
     "data": {
      "image/png": "[encoded data removed]",
      "text/plain": [
       "<matplotlib.figure.Figure at 0x19d0f173cf8>"
      ]
     },
     "metadata": {},
     "output_type": "display_data"
    }
   ],
   "source": [
    "from sklearn.decomposition import PCA\n",
    "import matplotlib.pyplot as plt\n",
    "% matplotlib inline\n",
    "pca=PCA(n_components=2).fit(training_X)\n",
    "v_data = pca.transform(training_X)\n",
    "\n",
    "x = []\n",
    "y = []\n",
    "\n",
    "count = 0\n",
    "out = []\n",
    "for i in v_data:\n",
    "    if i[0] > 20000 or i[1] > 3000:\n",
    "        out.append(count)\n",
    "        \n",
    "    count += 1\n",
    "    x.append(i[0])\n",
    "    y.append(i[1])\n",
    "\n",
    "plt.scatter(x,y)\n",
    "len(out)\n",
    "training_X = training_X.drop(out,axis=0)\n",
    "training_Y = training_Y.drop(out,axis=0)\n"
   ]
  },
  {
   "cell_type": "markdown",
   "metadata": {},
   "source": [
    "Scaler"
   ]
  },
  {
   "cell_type": "code",
   "execution_count": 34,
   "metadata": {},
   "outputs": [],
   "source": [
    "scaler = MinMaxScaler().fit(training_X)\n",
    "training_X = scaler.transform(training_X)\n",
    "testing_X = scaler.transform(testing_X)\n",
    "X_train_CV, X_test_f, Y_train_CV, Y_test_f = train_test_split(training_X, training_Y,random_state=seed, test_size=0.2)"
   ]
  },
  {
   "cell_type": "code",
   "execution_count": 35,
   "metadata": {},
   "outputs": [
    {
     "name": "stdout",
     "output_type": "stream",
     "text": [
      "0.114382985694\n"
     ]
    },
    {
     "data": {
      "text/plain": [
       "0.10986882040960973"
      ]
     },
     "execution_count": 35,
     "metadata": {},
     "output_type": "execute_result"
    }
   ],
   "source": [
    "# baseline = xgb.XGBRegressor(seed=seed)\n",
    "from sklearn.metrics import mean_squared_error\n",
    "baseline = Lasso(alpha=0.0005)\n",
    "s = -np.mean(cross_val_score(baseline, X_train_CV, Y_train_CV, cv=5,scoring='neg_mean_squared_error'))\n",
    "print(s**0.5)\n",
    "baseline.fit(X_train_CV,Y_train_CV)\n",
    "pred = baseline.predict(X_test_f)\n",
    "mean_squared_error(pred, Y_test_f)**0.5"
   ]
  },
  {
   "cell_type": "markdown",
   "metadata": {},
   "source": [
    "# Second test"
   ]
  },
  {
   "cell_type": "code",
   "execution_count": 237,
   "metadata": {
    "collapsed": true
   },
   "outputs": [],
   "source": [
    "model = xgb.XGBRegressor(seed=seed)\n",
    "model.fit(training_X, training_Y)\n",
    "pred = model.predict(testing_X)\n",
    "getresult(pred,'2.csv')"
   ]
  },
  {
   "attachments": {
    "%E5%9B%BE%E7%89%87.png": {
     "image/png": "[encoded data removed]"
    }
   },
   "cell_type": "markdown",
   "metadata": {},
   "source": [
    "![%E5%9B%BE%E7%89%87.png](attachment:%E5%9B%BE%E7%89%87.png)"
   ]
  },
  {
   "cell_type": "markdown",
   "metadata": {},
   "source": [
    "# Third test\n",
    "target log"
   ]
  },
  {
   "cell_type": "code",
   "execution_count": 27,
   "metadata": {},
   "outputs": [
    {
     "name": "stdout",
     "output_type": "stream",
     "text": [
      "0.114382985694\n",
      "0.10986882041\n"
     ]
    }
   ],
   "source": [
    "baseline = Lasso(alpha=0.0005)\n",
    "s = -np.mean(cross_val_score(baseline, X_train_CV, Y_train_CV, cv=5,scoring='neg_mean_squared_error'))\n",
    "print(s**0.5)\n",
    "baseline.fit(X_train_CV,Y_train_CV)\n",
    "pred = baseline.predict(X_test_f)\n",
    "print(mean_squared_error(pred, Y_test_f)**0.5)\n",
    "baseline.fit(training_X,training_Y)\n",
    "pred = baseline.predict(testing_X)\n",
    "getresult(['{:.2f}'.format(math.exp(i)+1) for i in pred],'3.csv')"
   ]
  },
  {
   "cell_type": "markdown",
   "metadata": {},
   "source": [
    "# Model Selection"
   ]
  },
  {
   "cell_type": "code",
   "execution_count": 28,
   "metadata": {},
   "outputs": [
    {
     "name": "stdout",
     "output_type": "stream",
     "text": [
      "0.116654783284\n"
     ]
    },
    {
     "data": {
      "text/plain": [
       "0.1195940943161669"
      ]
     },
     "execution_count": 28,
     "metadata": {},
     "output_type": "execute_result"
    }
   ],
   "source": [
    "xgbm = xgb.XGBRegressor(colsample_bytree=0.4603, gamma=0.0468, \n",
    "                             learning_rate=0.05, max_depth=3, \n",
    "                             min_child_weight=1.7817, n_estimators=2200,\n",
    "                             reg_alpha=0.4640, reg_lambda=0.8571,\n",
    "                             subsample=0.5213, silent=1,\n",
    "                             nthread = -1,seed=seed)\n",
    "s = -np.mean(cross_val_score(xgbm, X_train_CV, Y_train_CV, cv=5,scoring='neg_mean_squared_error'))\n",
    "print(s**0.5)\n",
    "xgbm.fit(X_train_CV,Y_train_CV)\n",
    "pred = xgbm.predict(X_test_f)\n",
    "mean_squared_error(pred, Y_test_f)**0.5"
   ]
  },
  {
   "cell_type": "code",
   "execution_count": 391,
   "metadata": {},
   "outputs": [
    {
     "name": "stdout",
     "output_type": "stream",
     "text": [
      "0.114382985694\n"
     ]
    },
    {
     "data": {
      "text/plain": [
       "113"
      ]
     },
     "execution_count": 391,
     "metadata": {},
     "output_type": "execute_result"
    }
   ],
   "source": [
    "lasso = baseline = Lasso(alpha=0.0005,random_state=0)\n",
    "s = -np.mean(cross_val_score(lasso, X_train_CV, Y_train_CV, cv=5,scoring='neg_mean_squared_error'))\n",
    "print(s**0.5)\n",
    "lasso.fit(training_X, training_Y)\n",
    "len([i for i in lasso.coef_ if i != 0])"
   ]
  },
  {
   "cell_type": "code",
   "execution_count": 29,
   "metadata": {},
   "outputs": [
    {
     "name": "stdout",
     "output_type": "stream",
     "text": [
      "0.189327556071\n"
     ]
    },
    {
     "data": {
      "text/plain": [
       "0.16051140640395894"
      ]
     },
     "execution_count": 29,
     "metadata": {},
     "output_type": "execute_result"
    }
   ],
   "source": [
    "from sklearn.ensemble import AdaBoostRegressor\n",
    "from sklearn.ensemble import RandomForestRegressor\n",
    "from sklearn.neural_network import MLPRegressor\n",
    "from sklearn.neighbors import KNeighborsRegressor\n",
    "mlp = MLPRegressor(\n",
    "    random_state=0,\n",
    "    hidden_layer_sizes = (110, 90),\n",
    "#     max_iter=3000,\n",
    "#     early_stopping=True,\n",
    "#     alpha = 0.01\n",
    ")\n",
    "s = -np.mean(cross_val_score(mlp, X_train_CV, Y_train_CV, cv=5,scoring='neg_mean_squared_error'))\n",
    "print(s**0.5)\n",
    "mlp.fit(X_train_CV,Y_train_CV)\n",
    "pred = mlp.predict(X_test_f)\n",
    "mean_squared_error(pred, Y_test_f)**0.5"
   ]
  },
  {
   "cell_type": "code",
   "execution_count": 31,
   "metadata": {},
   "outputs": [
    {
     "name": "stdout",
     "output_type": "stream",
     "text": [
      "0.136356323887\n"
     ]
    },
    {
     "data": {
      "text/plain": [
       "0.14264394196212749"
      ]
     },
     "execution_count": 31,
     "metadata": {},
     "output_type": "execute_result"
    }
   ],
   "source": [
    "rf = RandomForestRegressor(\n",
    "    max_features = 27,\n",
    "    min_samples_leaf = 1,\n",
    "    n_estimators = 41,\n",
    "    random_state = 0,\n",
    "    min_samples_split = 6\n",
    ")\n",
    "s = -np.mean(cross_val_score(rf, X_train_CV, Y_train_CV, cv=5,scoring='neg_mean_squared_error'))\n",
    "print(s**0.5)\n",
    "rf.fit(X_train_CV,Y_train_CV)\n",
    "pred = rf.predict(X_test_f)\n",
    "mean_squared_error(pred, Y_test_f)**0.5"
   ]
  },
  {
   "cell_type": "code",
   "execution_count": 400,
   "metadata": {},
   "outputs": [
    {
     "name": "stdout",
     "output_type": "stream",
     "text": [
      "0.198069905911\n"
     ]
    },
    {
     "data": {
      "text/plain": [
       "0.1697683342308354"
      ]
     },
     "execution_count": 400,
     "metadata": {},
     "output_type": "execute_result"
    }
   ],
   "source": [
    "ada = AdaBoostRegressor(\n",
    "#     n_estimators = 61,\n",
    "#     learning_rate = 1.005,\n",
    "#     loss = 'exponential',\n",
    "    random_state = 0\n",
    ")\n",
    "print(s**0.5)\n",
    "ada.fit(X_train_CV,Y_train_CV)\n",
    "pred = ada.predict(X_test_f)\n",
    "mean_squared_error(pred, Y_test_f)**0.5"
   ]
  },
  {
   "cell_type": "code",
   "execution_count": 399,
   "metadata": {},
   "outputs": [
    {
     "name": "stdout",
     "output_type": "stream",
     "text": [
      "0.198069905911\n"
     ]
    },
    {
     "data": {
      "text/plain": [
       "0.21449902245969696"
      ]
     },
     "execution_count": 399,
     "metadata": {},
     "output_type": "execute_result"
    }
   ],
   "source": [
    "knn = KNeighborsRegressor(n_neighbors = 11)\n",
    "s = -np.mean(cross_val_score(knn, X_train_CV, Y_train_CV, cv=5,scoring='neg_mean_squared_error'))\n",
    "print(s**0.5)\n",
    "knn.fit(X_train_CV,Y_train_CV)\n",
    "pred = knn.predict(X_test_f)\n",
    "mean_squared_error(pred, Y_test_f)**0.5"
   ]
  },
  {
   "cell_type": "markdown",
   "metadata": {},
   "source": [
    "# Tuning"
   ]
  },
  {
   "cell_type": "code",
   "execution_count": 322,
   "metadata": {},
   "outputs": [
    {
     "name": "stdout",
     "output_type": "stream",
     "text": [
      "Fitting 5 folds for each of 125 candidates, totalling 625 fits\n"
     ]
    },
    {
     "name": "stderr",
     "output_type": "stream",
     "text": [
      "[Parallel(n_jobs=1)]: Done 625 out of 625 | elapsed: 10.7min finished\n"
     ]
    },
    {
     "data": {
      "text/plain": [
       "({'hidden_layer_sizes': (70, 70, 50)}, 0.16973023160020573)"
      ]
     },
     "execution_count": 322,
     "metadata": {},
     "output_type": "execute_result"
    }
   ],
   "source": [
    "from sklearn.grid_search import GridSearchCV\n",
    "Search_param = {\n",
    "    'hidden_layer_sizes' :[(10, 10, 10),\n",
    " (10, 10, 30),\n",
    " (10, 10, 50),\n",
    " (10, 10, 70),\n",
    " (10, 10, 90),\n",
    " (10, 30, 10),\n",
    " (10, 30, 30),\n",
    " (10, 30, 50),\n",
    " (10, 30, 70),\n",
    " (10, 30, 90),\n",
    " (10, 50, 10),\n",
    " (10, 50, 30),\n",
    " (10, 50, 50),\n",
    " (10, 50, 70),\n",
    " (10, 50, 90),\n",
    " (10, 70, 10),\n",
    " (10, 70, 30),\n",
    " (10, 70, 50),\n",
    " (10, 70, 70),\n",
    " (10, 70, 90),\n",
    " (10, 90, 10),\n",
    " (10, 90, 30),\n",
    " (10, 90, 50),\n",
    " (10, 90, 70),\n",
    " (10, 90, 90),\n",
    " (30, 10, 10),\n",
    " (30, 10, 30),\n",
    " (30, 10, 50),\n",
    " (30, 10, 70),\n",
    " (30, 10, 90),\n",
    " (30, 30, 10),\n",
    " (30, 30, 30),\n",
    " (30, 30, 50),\n",
    " (30, 30, 70),\n",
    " (30, 30, 90),\n",
    " (30, 50, 10),\n",
    " (30, 50, 30),\n",
    " (30, 50, 50),\n",
    " (30, 50, 70),\n",
    " (30, 50, 90),\n",
    " (30, 70, 10),\n",
    " (30, 70, 30),\n",
    " (30, 70, 50),\n",
    " (30, 70, 70),\n",
    " (30, 70, 90),\n",
    " (30, 90, 10),\n",
    " (30, 90, 30),\n",
    " (30, 90, 50),\n",
    " (30, 90, 70),\n",
    " (30, 90, 90),\n",
    " (50, 10, 10),\n",
    " (50, 10, 30),\n",
    " (50, 10, 50),\n",
    " (50, 10, 70),\n",
    " (50, 10, 90),\n",
    " (50, 30, 10),\n",
    " (50, 30, 30),\n",
    " (50, 30, 50),\n",
    " (50, 30, 70),\n",
    " (50, 30, 90),\n",
    " (50, 50, 10),\n",
    " (50, 50, 30),\n",
    " (50, 50, 50),\n",
    " (50, 50, 70),\n",
    " (50, 50, 90),\n",
    " (50, 70, 10),\n",
    " (50, 70, 30),\n",
    " (50, 70, 50),\n",
    " (50, 70, 70),\n",
    " (50, 70, 90),\n",
    " (50, 90, 10),\n",
    " (50, 90, 30),\n",
    " (50, 90, 50),\n",
    " (50, 90, 70),\n",
    " (50, 90, 90),\n",
    " (70, 10, 10),\n",
    " (70, 10, 30),\n",
    " (70, 10, 50),\n",
    " (70, 10, 70),\n",
    " (70, 10, 90),\n",
    " (70, 30, 10),\n",
    " (70, 30, 30),\n",
    " (70, 30, 50),\n",
    " (70, 30, 70),\n",
    " (70, 30, 90),\n",
    " (70, 50, 10),\n",
    " (70, 50, 30),\n",
    " (70, 50, 50),\n",
    " (70, 50, 70),\n",
    " (70, 50, 90),\n",
    " (70, 70, 10),\n",
    " (70, 70, 30),\n",
    " (70, 70, 50),\n",
    " (70, 70, 70),\n",
    " (70, 70, 90),\n",
    " (70, 90, 10),\n",
    " (70, 90, 30),\n",
    " (70, 90, 50),\n",
    " (70, 90, 70),\n",
    " (70, 90, 90),\n",
    " (90, 10, 10),\n",
    " (90, 10, 30),\n",
    " (90, 10, 50),\n",
    " (90, 10, 70),\n",
    " (90, 10, 90),\n",
    " (90, 30, 10),\n",
    " (90, 30, 30),\n",
    " (90, 30, 50),\n",
    " (90, 30, 70),\n",
    " (90, 30, 90),\n",
    " (90, 50, 10),\n",
    " (90, 50, 30),\n",
    " (90, 50, 50),\n",
    " (90, 50, 70),\n",
    " (90, 50, 90),\n",
    " (90, 70, 10),\n",
    " (90, 70, 30),\n",
    " (90, 70, 50),\n",
    " (90, 70, 70),\n",
    " (90, 70, 90),\n",
    " (90, 90, 10),\n",
    " (90, 90, 30),\n",
    " (90, 90, 50),\n",
    " (90, 90, 70),\n",
    " (90, 90, 90)]\n",
    "                \n",
    "              \n",
    "                \n",
    "                \n",
    "               }\n",
    "Gsearch = GridSearchCV(estimator = MLPRegressor(random_state=seed),\n",
    "                       param_grid =Search_param, \n",
    "                       scoring = 'neg_mean_squared_error',\n",
    "                       cv = 5,\n",
    "                      verbose = 1)\n",
    "# bst.fit(X_train,y_train)\n",
    "# Gsearch.fit(X,label)\n",
    "Gsearch.fit(X_train_CV,Y_train_CV)\n",
    "Gsearch.best_params_,(-Gsearch.best_score_)**0.5\n",
    "\n",
    "# print(metrics.r2_score(y_test.values,preds))"
   ]
  },
  {
   "cell_type": "markdown",
   "metadata": {},
   "source": [
    "# Forth test\n",
    "lasso with Tune"
   ]
  },
  {
   "cell_type": "code",
   "execution_count": 492,
   "metadata": {},
   "outputs": [
    {
     "name": "stdout",
     "output_type": "stream",
     "text": [
      "0.116778290216\n",
      "0.110999828655\n"
     ]
    }
   ],
   "source": [
    "from sklearn.metrics import mean_squared_log_error\n",
    "baseline = Lasso(alpha=0.0005)\n",
    "s = -np.mean(cross_val_score(baseline, X_train_CV, Y_train_CV, cv=5,scoring='neg_mean_squared_error'))\n",
    "print(s**0.5)\n",
    "baseline.fit(X_train_CV,Y_train_CV)\n",
    "pred = baseline.predict(X_test_f)\n",
    "print(mean_squared_error(pred, Y_test_f)**0.5)\n",
    "lasso.fit(training_X,training_Y)\n",
    "pred = lasso.predict(testing_X)\n",
    "getresult(['{:.2f}'.format(math.exp(i)+1) for i in pred],'4.csv')"
   ]
  },
  {
   "attachments": {
    "%E5%9B%BE%E7%89%87.png": {
     "image/png": "[encoded data removed]"
    }
   },
   "cell_type": "markdown",
   "metadata": {},
   "source": [
    "![%E5%9B%BE%E7%89%87.png](attachment:%E5%9B%BE%E7%89%87.png)\n"
   ]
  },
  {
   "cell_type": "markdown",
   "metadata": {},
   "source": [
    "# 5"
   ]
  },
  {
   "cell_type": "code",
   "execution_count": 494,
   "metadata": {},
   "outputs": [
    {
     "name": "stdout",
     "output_type": "stream",
     "text": [
      "0.116778290216\n",
      "0.110999828655\n"
     ]
    }
   ],
   "source": [
    "from sklearn.metrics import mean_squared_log_error\n",
    "baseline = Lasso(alpha=0.0005)\n",
    "s = -np.mean(cross_val_score(baseline, X_train_CV, Y_train_CV, cv=5,scoring='neg_mean_squared_error'))\n",
    "print(s**0.5)\n",
    "baseline.fit(X_train_CV,Y_train_CV)\n",
    "pred = baseline.predict(X_test_f)\n",
    "print(mean_squared_error(pred, Y_test_f)**0.5)\n",
    "lasso.fit(training_X,training_Y)\n",
    "pred = lasso.predict(testing_X)\n",
    "getresult(['{:.2f}'.format(math.exp(i)+1) for i in pred],'5.csv')"
   ]
  },
  {
   "attachments": {
    "%E5%9B%BE%E7%89%87.png": {
     "image/png": "[encoded data removed]"
    }
   },
   "cell_type": "markdown",
   "metadata": {},
   "source": [
    "![%E5%9B%BE%E7%89%87.png](attachment:%E5%9B%BE%E7%89%87.png)"
   ]
  },
  {
   "cell_type": "markdown",
   "metadata": {},
   "source": [
    "# 6\n",
    "after process skewed feature"
   ]
  },
  {
   "cell_type": "code",
   "execution_count": 141,
   "metadata": {},
   "outputs": [
    {
     "name": "stdout",
     "output_type": "stream",
     "text": [
      "0.117034165889\n",
      "0.154092899059\n"
     ]
    }
   ],
   "source": [
    "from sklearn.metrics import mean_squared_log_error\n",
    "baseline = Lasso(alpha=0.0005)\n",
    "s = -np.mean(cross_val_score(baseline, X_train_CV, Y_train_CV, cv=5,scoring='neg_mean_squared_error'))\n",
    "print(s**0.5)\n",
    "baseline.fit(X_train_CV,Y_train_CV)\n",
    "pred = baseline.predict(X_test_f)\n",
    "print(mean_squared_error(pred, Y_test_f)**0.5)\n",
    "lasso.fit(training_X,training_Y)\n",
    "pred = lasso.predict(testing_X)\n",
    "getresult(['{:.2f}'.format(math.exp(i)+1) for i in pred],'6.csv')\n",
    "#1223"
   ]
  },
  {
   "cell_type": "markdown",
   "metadata": {},
   "source": [
    "# 7\n",
    "scaler"
   ]
  },
  {
   "cell_type": "code",
   "execution_count": 156,
   "metadata": {},
   "outputs": [
    {
     "name": "stdout",
     "output_type": "stream",
     "text": [
      "0.115707899489\n",
      "0.109487054005\n"
     ]
    }
   ],
   "source": [
    "from sklearn.metrics import mean_squared_log_error\n",
    "baseline = Lasso(alpha=0.0005)\n",
    "s = -np.mean(cross_val_score(baseline, X_train_CV, Y_train_CV, cv=5,scoring='neg_mean_squared_error'))\n",
    "print(s**0.5)\n",
    "baseline.fit(X_train_CV,Y_train_CV)\n",
    "pred = baseline.predict(X_test_f)\n",
    "print(mean_squared_error(pred, Y_test_f)**0.5)\n",
    "lasso.fit(training_X,training_Y)\n",
    "pred = lasso.predict(testing_X)\n",
    "getresult(['{:.2f}'.format(math.exp(i)+1) for i in pred],'7.csv')\n"
   ]
  },
  {
   "attachments": {
    "%E5%9B%BE%E7%89%87.png": {
     "image/png": "[encoded data removed]"
    }
   },
   "cell_type": "markdown",
   "metadata": {},
   "source": [
    "![%E5%9B%BE%E7%89%87.png](attachment:%E5%9B%BE%E7%89%87.png)"
   ]
  },
  {
   "cell_type": "markdown",
   "metadata": {},
   "source": [
    "# 8\n",
    "interactive term"
   ]
  },
  {
   "cell_type": "code",
   "execution_count": 394,
   "metadata": {},
   "outputs": [
    {
     "name": "stdout",
     "output_type": "stream",
     "text": [
      "0.114382985694\n",
      "0.10986882041\n"
     ]
    }
   ],
   "source": [
    "from sklearn.metrics import mean_squared_log_error\n",
    "baseline = Lasso(alpha=0.0005)\n",
    "s = -np.mean(cross_val_score(baseline, X_train_CV, Y_train_CV, cv=5,scoring='neg_mean_squared_error'))\n",
    "print(s**0.5)\n",
    "baseline.fit(X_train_CV,Y_train_CV)\n",
    "pred1 = baseline.predict(X_test_f)\n",
    "print(mean_squared_error(pred1, Y_test_f)**0.5)\n",
    "baseline.fit(training_X,training_Y)\n",
    "pred1 = baseline.predict(testing_X)\n",
    "getresult(['{:.2f}'.format(math.exp(i)+1) for i in pred1],'8.csv')\n"
   ]
  },
  {
   "attachments": {
    "%E5%9B%BE%E7%89%87.png": {
     "image/png": "[encoded data removed]"
    }
   },
   "cell_type": "markdown",
   "metadata": {},
   "source": [
    "![%E5%9B%BE%E7%89%87.png](attachment:%E5%9B%BE%E7%89%87.png)"
   ]
  },
  {
   "cell_type": "code",
   "execution_count": 346,
   "metadata": {},
   "outputs": [
    {
     "name": "stdout",
     "output_type": "stream",
     "text": [
      "0.116654783284\n",
      "0.119594094316\n"
     ]
    }
   ],
   "source": [
    "from sklearn.metrics import mean_squared_log_error\n",
    "# baseline = Lasso(alpha=0.0005)\n",
    "s = -np.mean(cross_val_score(xgbm, X_train_CV, Y_train_CV, cv=5,scoring='neg_mean_squared_error'))\n",
    "print(s**0.5)\n",
    "xgbm.fit(X_train_CV,Y_train_CV)\n",
    "pred = xgbm.predict(X_test_f)\n",
    "print(mean_squared_error(pred, Y_test_f)**0.5)\n",
    "# xgbm.fit(training_X,training_Y)\n",
    "# pred = xgbm.predict(testing_X)\n",
    "# getresult(['{:.2f}'.format(math.exp(i)+1) for i in pred],'8.csv')\n"
   ]
  },
  {
   "attachments": {
    "%E5%9B%BE%E7%89%87.png": {
     "image/png": "[encoded data removed]"
    }
   },
   "cell_type": "markdown",
   "metadata": {},
   "source": [
    "![%E5%9B%BE%E7%89%87.png](attachment:%E5%9B%BE%E7%89%87.png)"
   ]
  },
  {
   "cell_type": "markdown",
   "metadata": {},
   "source": [
    "# Stacking"
   ]
  },
  {
   "cell_type": "code",
   "execution_count": 32,
   "metadata": {
    "collapsed": true
   },
   "outputs": [],
   "source": [
    "class Stacking(object):\n",
    "    def __init__(self, k_folds, base_models, seed):\n",
    "        self.k_folds = k_folds\n",
    "        self.base_models = base_models\n",
    "        self.seed = seed\n",
    "    def step1(self, train, test, label):\n",
    "        folds = KFold(train.shape[0],self.k_folds,True,self.seed)\n",
    "#         P = pd.DataFrame()\n",
    "#         T = pd.DataFrame()\n",
    "        for i, m in enumerate(self.base_models):\n",
    "            \n",
    "            model = m\n",
    "            P_sub = pd.DataFrame()\n",
    "            T_sub = pd.DataFrame()\n",
    "            L_sub = pd.DataFrame()\n",
    "#             print(i)\n",
    "\n",
    "            for j,(train_index, test_index) in enumerate(folds):\n",
    "                \n",
    "                train_sub = train.loc[train_index]\n",
    "                test_sub = train.loc[test_index]\n",
    "                label_sub = label.loc[train_index]\n",
    "#                 print(train,train_index,train_sub)\n",
    "#                 print(label_sub)\n",
    "\n",
    "                model.fit(train_sub, label_sub)\n",
    "                P_sub = P_sub.append(pd.DataFrame(model.predict(test_sub))).reset_index(drop=True)\n",
    "                T_sub.insert(j,str(j),model.predict(test))\n",
    "                L_sub = L_sub.append(pd.DataFrame(label.loc[test_index].values)).reset_index(drop=True)\n",
    "        \n",
    "            \n",
    "                \n",
    "            if(i == 0):\n",
    "                P = [P_sub]\n",
    "                T = [T_sub.apply(lambda x: x.sum(), axis=1)/self.k_folds]\n",
    "                continue\n",
    "            P.append(P_sub)        \n",
    "            T.append(T_sub.apply(lambda x: x.sum(), axis=1)/self.k_folds)\n",
    "        \n",
    "        P = pd.concat(P,axis=1)\n",
    "        T = pd.concat(T,axis=1)\n",
    "        P.columns = list(range(i+1))\n",
    "        return P,T,L_sub\n",
    "\n",
    "    \n",
    "    def step2(self, stacker, P, T, L):\n",
    "        stacker.fit(P,L)\n",
    "        return stacker.predict(T)\n",
    "                \n",
    "            "
   ]
  },
  {
   "cell_type": "code",
   "execution_count": 33,
   "metadata": {
    "collapsed": true
   },
   "outputs": [],
   "source": [
    "X_train_CV = pd.DataFrame(X_train_CV).reset_index(drop=True)\n",
    "X_test_f = pd.DataFrame(X_test_f).reset_index(drop=True)\n",
    "Y_train_CV = pd.DataFrame(Y_train_CV).reset_index(drop=True)"
   ]
  },
  {
   "cell_type": "code",
   "execution_count": 34,
   "metadata": {},
   "outputs": [
    {
     "data": {
      "text/plain": [
       "0.11777659684647061"
      ]
     },
     "execution_count": 34,
     "metadata": {},
     "output_type": "execute_result"
    }
   ],
   "source": [
    "#stacking\n",
    "e = [baseline, xgbm,rf]\n",
    "NB = Stacking(5,e,0)#abc\n",
    "P,T,L = NB.step1(X_train_CV,X_test_f,Y_train_CV)\n",
    "pred = NB.step2(xgb.XGBRegressor(seed=seed),P,T,L)\n",
    "mean_squared_error(pred, Y_test_f)**0.5"
   ]
  },
  {
   "cell_type": "code",
   "execution_count": 352,
   "metadata": {
    "collapsed": true
   },
   "outputs": [],
   "source": [
    "training_X = pd.DataFrame(training_X).reset_index(drop=True)\n",
    "testing_X = pd.DataFrame(testing_X).reset_index(drop=True)\n",
    "training_Y = pd.DataFrame(training_Y).reset_index(drop=True)"
   ]
  },
  {
   "cell_type": "code",
   "execution_count": 354,
   "metadata": {},
   "outputs": [
    {
     "data": {
      "text/plain": [
       "array([ 11.68823147,  12.0278368 ,  12.07683277, ...,  12.0278368 ,\n",
       "        11.68823147,  12.3196907 ], dtype=float32)"
      ]
     },
     "execution_count": 354,
     "metadata": {},
     "output_type": "execute_result"
    }
   ],
   "source": [
    "e = [baseline, xgbm]\n",
    "NB = Stacking(5,e,0)#abc\n",
    "P,T,L = NB.step1(training_X,testing_X,training_Y)\n",
    "pred = NB.step2(xgb.XGBRegressor(seed=seed),P,T,L)\n",
    "# mean_squared_error(pred, Y_test_f)**0.5\n",
    "pred"
   ]
  },
  {
   "cell_type": "code",
   "execution_count": 355,
   "metadata": {
    "collapsed": true
   },
   "outputs": [],
   "source": [
    "getresult(['{:.2f}'.format(math.exp(i)+1) for i in pred],'10.csv')"
   ]
  },
  {
   "attachments": {
    "%E5%9B%BE%E7%89%87.png": {
     "image/png": "[encoded data removed]"
    }
   },
   "cell_type": "markdown",
   "metadata": {},
   "source": [
    "![%E5%9B%BE%E7%89%87.png](attachment:%E5%9B%BE%E7%89%87.png)"
   ]
  },
  {
   "cell_type": "markdown",
   "metadata": {},
   "source": [
    "# 9\n",
    "avg ensambel"
   ]
  },
  {
   "cell_type": "code",
   "execution_count": 347,
   "metadata": {},
   "outputs": [
    {
     "name": "stdout",
     "output_type": "stream",
     "text": [
      "0.111573007675\n"
     ]
    }
   ],
   "source": [
    "avg = [(i+j)/2 for i, j in zip(pred1, pred)]\n",
    "# getresult(['{:.2f}'.format(math.exp(i)+1) for i in avg],'9.csv')\n",
    "print(mean_squared_error(avg, Y_test_f)**0.5)"
   ]
  },
  {
   "attachments": {
    "%E5%9B%BE%E7%89%87.png": {
     "image/png": "[encoded data removed]"
    }
   },
   "cell_type": "markdown",
   "metadata": {},
   "source": [
    "![%E5%9B%BE%E7%89%87.png](attachment:%E5%9B%BE%E7%89%87.png)"
   ]
  }
 ],
 "metadata": {
  "kernelspec": {
   "display_name": "Python 3",
   "language": "python",
   "name": "python3"
  },
  "language_info": {
   "codemirror_mode": {
    "name": "ipython",
    "version": 3
   },
   "file_extension": ".py",
   "mimetype": "text/x-python",
   "name": "python",
   "nbconvert_exporter": "python",
   "pygments_lexer": "ipython3",
   "version": "3.6.3"
  }
 },
 "nbformat": 4,
 "nbformat_minor": 2
}
